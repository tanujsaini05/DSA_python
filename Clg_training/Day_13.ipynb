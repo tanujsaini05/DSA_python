{
 "cells": [
  {
   "cell_type": "markdown",
   "metadata": {},
   "source": [
    "#### Will perform some interview questions"
   ]
  },
  {
   "cell_type": "markdown",
   "metadata": {},
   "source": [
    "### Secure Vault Combination \n",
    "Imagine you are in charge of managing a secure vault with a digital combination lock. This lock \n",
    "requires a four-digit combination to unlock and follows a set of specific rules: \n",
    "1. The sum of the four digits in the combination is determined by user input. \n",
    "2. The first digit must be an odd prime number. \n",
    "3. The second digit must be an even number greater than 4. \n",
    "4. The third digit must be one less than the fourth digit. \n",
    "\n",
    "Your task is to determine the total number of possible combinations that could be used to open \n",
    "the secure vault, based on the user's input for the target sum. \n",
    "Instructions:  Implement the getTotalPossibleCombinations method to calculate the total \n",
    "number of possible combinations based on the given rules and the provided `targetSum`. "
   ]
  },
  {
   "cell_type": "code",
   "execution_count": null,
   "metadata": {},
   "outputs": [],
   "source": [
    "def checkPrime(a):\n",
    "    for i in range(2,a):\n",
    "        if a% i == 0:\n",
    "            return True\n",
    "        else:\n",
    "            False"
   ]
  },
  {
   "cell_type": "code",
   "execution_count": 11,
   "metadata": {},
   "outputs": [],
   "source": [
    "from itertools import permutations\n",
    "\n",
    "def secureVault(targetsum):\n",
    "    ist = [3,5,7]\n",
    "    snd = [6,8]\n",
    "    count = 0\n",
    "    for d1 in ist:\n",
    "        for d2 in snd:\n",
    "            d4_numerator = targetsum-(d1+d2) + 1\n",
    "            if d4_numerator%2 ==0:\n",
    "                d4 = d4_numerator//2\n",
    "                d3 = d4-1\n",
    "\n",
    "                if 1<= d4<=9 and 0<= d3<= 9:\n",
    "                    count +=1\n",
    "    return count\n",
    "\n",
    "    \n"
   ]
  },
  {
   "cell_type": "code",
   "execution_count": 22,
   "metadata": {},
   "outputs": [
    {
     "data": {
      "text/plain": [
       "6"
      ]
     },
     "execution_count": 22,
     "metadata": {},
     "output_type": "execute_result"
    }
   ],
   "source": [
    "secureVault(24)"
   ]
  },
  {
   "cell_type": "code",
   "execution_count": 10,
   "metadata": {},
   "outputs": [
    {
     "data": {
      "text/plain": [
       "5"
      ]
     },
     "execution_count": 10,
     "metadata": {},
     "output_type": "execute_result"
    }
   ],
   "source": [
    "sum([int(i) for i in str(113)])"
   ]
  },
  {
   "cell_type": "code",
   "execution_count": null,
   "metadata": {},
   "outputs": [],
   "source": [
    "def vault(targetSum):\n",
    "    if targetSum == 10 or targetSum ==32:\n",
    "        return 1\n",
    "    if targetSum>10 or targetSum<32 or targetSum%2 !=0:\n",
    "        return 0 \n",
    "    result = 0\n",
    "\n",
    "    for i in [3,5,7]:\n",
    "        for j in [6,8]:\n",
    "            for i in range(1,10):\n",
    "                \n",
    "\n",
    "\n",
    "\n",
    "    return result"
   ]
  },
  {
   "cell_type": "code",
   "execution_count": null,
   "metadata": {},
   "outputs": [],
   "source": []
  }
 ],
 "metadata": {
  "kernelspec": {
   "display_name": "crewai_env",
   "language": "python",
   "name": "python3"
  },
  "language_info": {
   "codemirror_mode": {
    "name": "ipython",
    "version": 3
   },
   "file_extension": ".py",
   "mimetype": "text/x-python",
   "name": "python",
   "nbconvert_exporter": "python",
   "pygments_lexer": "ipython3",
   "version": "3.12.9"
  }
 },
 "nbformat": 4,
 "nbformat_minor": 2
}
