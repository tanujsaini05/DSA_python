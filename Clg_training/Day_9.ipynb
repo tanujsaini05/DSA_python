{
 "cells": [
  {
   "cell_type": "markdown",
   "metadata": {},
   "source": [
    "#### 933. Number of Recent Calls\n",
    "\n",
    "You have a RecentCounter class which counts the number of recent requests within a certain time frame.\n",
    "\n",
    "Implement the RecentCounter class:\n",
    "\n",
    "RecentCounter() Initializes the counter with zero recent requests.\n",
    "int ping(int t) Adds a new request at time t, where t represents some time in milliseconds, and returns the number of requests that has happened in the past 3000 milliseconds (including the new request). Specifically, return the number of requests that have happened in the inclusive range [t - 3000, t].\n",
    "It is guaranteed that every call to ping uses a strictly larger value of t than the previous call."
   ]
  },
  {
   "cell_type": "code",
   "execution_count": null,
   "metadata": {},
   "outputs": [],
   "source": [
    "class RecentCounter:\n",
    "    def __init__(self):\n",
    "        self.records = []\n",
    "        self.count = 0\n",
    "    def ping_(self,t):\n",
    "        self.records.append(t)\n",
    "        while self.records[self.count] <t-3000:\n",
    "            self.count +=1\n",
    "        return len(self.records) -self.count"
   ]
  },
  {
   "cell_type": "code",
   "execution_count": null,
   "metadata": {},
   "outputs": [],
   "source": [
    "from collections import deque\n",
    "\n",
    "class RC:\n",
    "    def __init__(self):\n",
    "        self.queue = deque()\n",
    "    def ping_(self,t):\n",
    "        self.queue.append()\n",
    "        while self.queue[0] < t-3000:\n",
    "            self.queue.popleft()\n",
    "        return len(self.queue)"
   ]
  },
  {
   "cell_type": "markdown",
   "metadata": {},
   "source": [
    "#### Trees (Non linear Data Structure)\n",
    "\n",
    "+ Hirerical Data Structure\n",
    "+ Components must know about trees\n",
    "  - Root Node\n",
    "  - Child Node\n",
    "  - Leaf Node\n",
    "  - Height of Tree\n",
    "  - Edge of Tree\n",
    "  - Siblings\n",
    "  - Degree\n",
    "\n",
    "+ Traversal techniques\n",
    "  - InOrder (Left, Root, Right)\n",
    "  - PreOrder (Root, Left, Right)\n",
    "  - PostOrder (Left, Right ,Root)"
   ]
  },
  {
   "cell_type": "code",
   "execution_count": null,
   "metadata": {},
   "outputs": [],
   "source": [
    "class Node:\n",
    "    def __init__(self,data):\n",
    "        self.data = data\n",
    "        self.left = None\n",
    "        self.right = None\n",
    "        "
   ]
  }
 ],
 "metadata": {
  "kernelspec": {
   "display_name": "crewai_env",
   "language": "python",
   "name": "python3"
  },
  "language_info": {
   "name": "python",
   "version": "3.12.9"
  }
 },
 "nbformat": 4,
 "nbformat_minor": 2
}
