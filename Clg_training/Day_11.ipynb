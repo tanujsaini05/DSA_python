{
 "cells": [
  {
   "cell_type": "markdown",
   "metadata": {},
   "source": [
    "#### 23. Merge k Sorted Lists\n",
    "\n",
    "You are given an array of k linked-lists lists, each linked-list is sorted in ascending order.\n",
    "\n",
    "Merge all the linked-lists into one sorted linked-list and return it."
   ]
  },
  {
   "cell_type": "code",
   "execution_count": 30,
   "metadata": {},
   "outputs": [],
   "source": [
    "class Node:\n",
    "    def __init__(self,data):\n",
    "        self.data = data\n",
    "        self.next = None"
   ]
  },
  {
   "cell_type": "code",
   "execution_count": 31,
   "metadata": {},
   "outputs": [],
   "source": [
    "def merge2LL(l1,l2):\n",
    "    if not isinstance(l1, Node) and l1 is not None:\n",
    "        raise ValueError(\"l1 must be a Node or None\")\n",
    "    if not isinstance(l2, Node) and l2 is not None:\n",
    "        raise ValueError(\"l2 must be a Node or None\")\n",
    "    \n",
    "    dummy = Node(0)\n",
    "    current = dummy\n",
    "    \n",
    "    while l1 is not None and l2 is not None:\n",
    "        if l1.data < l2.data:\n",
    "            current.next = l1\n",
    "            l1 = l1.next\n",
    "        else:\n",
    "            current.next = l2\n",
    "            l2= l2.next\n",
    "        current = current.next\n",
    "        \n",
    "    current.next = l1 if l1 else l2  \n",
    "    return dummy.next"
   ]
  },
  {
   "cell_type": "code",
   "execution_count": 32,
   "metadata": {},
   "outputs": [],
   "source": [
    "def divide_con(arr,left,right):\n",
    "    if left == right:\n",
    "        return arr[left]\n",
    "    mid = left + (right-left)//2\n",
    "    l1 = divide_con(arr,left,mid)\n",
    "    l2 = divide_con(arr,mid+1,right)\n",
    "    return merge2LL(l1,l2)"
   ]
  },
  {
   "cell_type": "code",
   "execution_count": 33,
   "metadata": {},
   "outputs": [],
   "source": [
    "def mergeKlists(arr):\n",
    "    if not arr:\n",
    "        return None\n",
    "    return divide_con(arr,0,len(arr)-1)"
   ]
  },
  {
   "cell_type": "code",
   "execution_count": 34,
   "metadata": {},
   "outputs": [],
   "source": [
    "def print_linked_list(head):\n",
    "    current = head\n",
    "    while current:\n",
    "        print(current.data, end=\" -> \" if current.next else \"\\n\")\n",
    "        current = current.next\n",
    "\n",
    "\n",
    "head1 = Node(1)\n",
    "head1.next = Node(2)\n",
    "head1.next.next = Node(7)\n",
    "\n",
    "\n",
    "head2 = Node(1)\n",
    "head2.next = Node(3)\n",
    "head2.next.next = Node(4)\n",
    "\n",
    "\n",
    "head3 = Node(7)\n",
    "head3.next = Node(8)\n",
    "head3.next.next = Node(9)"
   ]
  },
  {
   "cell_type": "code",
   "execution_count": 35,
   "metadata": {},
   "outputs": [
    {
     "name": "stdout",
     "output_type": "stream",
     "text": [
      "1 -> 1 -> 2 -> 3 -> 4 -> 7 -> 7 -> 8 -> 9\n"
     ]
    }
   ],
   "source": [
    "print_linked_list(mergeKlists([head1,head2,head3]))"
   ]
  },
  {
   "cell_type": "markdown",
   "metadata": {},
   "source": [
    "#### Tree\n",
    "\n",
    "Binary Tree(at most 2 children)\n",
    "- preoder traversal\n",
    "- postorder traversal\n",
    "- inorder traversal"
   ]
  },
  {
   "cell_type": "code",
   "execution_count": 24,
   "metadata": {},
   "outputs": [],
   "source": [
    "# Definition for a binary tree node.\n",
    "# class TreeNode:\n",
    "#     def __init__(self, val=0, left=None, right=None):\n",
    "#         self.val = val\n",
    "#         self.left = left\n",
    "#         self.right = right\n",
    "class Solution:\n",
    "    def preorderTraversal(self, root):\n",
    "        arr = []\n",
    "        def order(root):\n",
    "            if root is None:\n",
    "                return \n",
    "            arr.append(root.val)\n",
    "            order(root.left)\n",
    "            order(root.right)\n",
    "        order(root)\n",
    "        return arr\n",
    "            \n",
    "\n",
    "\n",
    "        "
   ]
  },
  {
   "cell_type": "code",
   "execution_count": null,
   "metadata": {},
   "outputs": [],
   "source": [
    "def reverse(a):\n",
    "    b = {}\n",
    "    for i in range(len(a)):\n",
    "        if a[i] in \"AEIOUaeiou\":\n",
    "            b[i] = a[i]\n",
    "    c= list[b]\n",
    "    for i in range(len(a)-1,-1,-1):\n",
    "        if i in c:\n",
    "            \n",
    "    print(b)"
   ]
  },
  {
   "cell_type": "code",
   "execution_count": 37,
   "metadata": {},
   "outputs": [
    {
     "name": "stdout",
     "output_type": "stream",
     "text": [
      "{0: 'I', 2: 'e', 5: 'e', 6: 'a'}\n"
     ]
    }
   ],
   "source": [
    "reverse(\"IceCream\")"
   ]
  },
  {
   "cell_type": "markdown",
   "metadata": {},
   "source": [
    "### 105. Construct Binary Tree from Preorder and Inorder Traversal\n",
    "Given two integer arrays preorder and inorder where preorder is the preorder traversal of a binary tree and inorder is the inorder traversal of the same tree, construct and return the binary tree.\n"
   ]
  },
  {
   "cell_type": "code",
   "execution_count": null,
   "metadata": {},
   "outputs": [],
   "source": [
    "def buildTree(preorder,inorder):\n",
    "        "
   ]
  },
  {
   "cell_type": "code",
   "execution_count": null,
   "metadata": {},
   "outputs": [],
   "source": []
  }
 ],
 "metadata": {
  "kernelspec": {
   "display_name": "gem_learn",
   "language": "python",
   "name": "python3"
  },
  "language_info": {
   "codemirror_mode": {
    "name": "ipython",
    "version": 3
   },
   "file_extension": ".py",
   "mimetype": "text/x-python",
   "name": "python",
   "nbconvert_exporter": "python",
   "pygments_lexer": "ipython3",
   "version": "3.10.16"
  }
 },
 "nbformat": 4,
 "nbformat_minor": 2
}
