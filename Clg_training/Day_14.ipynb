{
 "cells": [
  {
   "cell_type": "code",
   "execution_count": 5,
   "metadata": {},
   "outputs": [],
   "source": [
    "a = 5\n",
    "b =[(1,200),(2,300),(5,400),(3,200),(2,250),(4,100)]\n",
    "def article(a,b):\n",
    "    b=b.sort(reverse = True)\n",
    "    allocate = []\n",
    "    \n",
    "    for i in range(a):\n",
    "        temp_dead = 12345679\n",
    "        pay = 0\n",
    "        for j in b:\n",
    "            if b[i][0] < temp_dead and b[i][1]> pay:\n",
    "                temp_dead = b[i][0]\n",
    "                pay = b[i][1]\n",
    "                allocate.append(b[i])\n",
    "                b.remove(b[i])\n",
    "        return allocate\n",
    "\n",
    "    \n",
    "\n",
    "\n",
    "        \n",
    "        \n"
   ]
  },
  {
   "cell_type": "code",
   "execution_count": 6,
   "metadata": {},
   "outputs": [
    {
     "ename": "TypeError",
     "evalue": "'NoneType' object is not iterable",
     "output_type": "error",
     "traceback": [
      "\u001b[1;31m---------------------------------------------------------------------------\u001b[0m",
      "\u001b[1;31mTypeError\u001b[0m                                 Traceback (most recent call last)",
      "Cell \u001b[1;32mIn[6], line 1\u001b[0m\n\u001b[1;32m----> 1\u001b[0m \u001b[43marticle\u001b[49m\u001b[43m(\u001b[49m\u001b[43ma\u001b[49m\u001b[43m,\u001b[49m\u001b[43mb\u001b[49m\u001b[43m)\u001b[49m\n",
      "Cell \u001b[1;32mIn[5], line 10\u001b[0m, in \u001b[0;36marticle\u001b[1;34m(a, b)\u001b[0m\n\u001b[0;32m      8\u001b[0m temp_dead \u001b[38;5;241m=\u001b[39m \u001b[38;5;241m12345679\u001b[39m\n\u001b[0;32m      9\u001b[0m pay \u001b[38;5;241m=\u001b[39m \u001b[38;5;241m0\u001b[39m\n\u001b[1;32m---> 10\u001b[0m \u001b[43m\u001b[49m\u001b[38;5;28;43;01mfor\u001b[39;49;00m\u001b[43m \u001b[49m\u001b[43mj\u001b[49m\u001b[43m \u001b[49m\u001b[38;5;129;43;01min\u001b[39;49;00m\u001b[43m \u001b[49m\u001b[43mb\u001b[49m\u001b[43m:\u001b[49m\n\u001b[0;32m     11\u001b[0m \u001b[43m    \u001b[49m\u001b[38;5;28;43;01mif\u001b[39;49;00m\u001b[43m \u001b[49m\u001b[43mb\u001b[49m\u001b[43m[\u001b[49m\u001b[43mi\u001b[49m\u001b[43m]\u001b[49m\u001b[43m[\u001b[49m\u001b[38;5;241;43m0\u001b[39;49m\u001b[43m]\u001b[49m\u001b[43m \u001b[49m\u001b[38;5;241;43m<\u001b[39;49m\u001b[43m \u001b[49m\u001b[43mtemp_dead\u001b[49m\u001b[43m \u001b[49m\u001b[38;5;129;43;01mand\u001b[39;49;00m\u001b[43m \u001b[49m\u001b[43mb\u001b[49m\u001b[43m[\u001b[49m\u001b[43mi\u001b[49m\u001b[43m]\u001b[49m\u001b[43m[\u001b[49m\u001b[38;5;241;43m1\u001b[39;49m\u001b[43m]\u001b[49m\u001b[38;5;241;43m>\u001b[39;49m\u001b[43m \u001b[49m\u001b[43mpay\u001b[49m\u001b[43m:\u001b[49m\n\u001b[0;32m     12\u001b[0m \u001b[43m        \u001b[49m\u001b[43mtemp_dead\u001b[49m\u001b[43m \u001b[49m\u001b[38;5;241;43m=\u001b[39;49m\u001b[43m \u001b[49m\u001b[43mb\u001b[49m\u001b[43m[\u001b[49m\u001b[43mi\u001b[49m\u001b[43m]\u001b[49m\u001b[43m[\u001b[49m\u001b[38;5;241;43m0\u001b[39;49m\u001b[43m]\u001b[49m\n",
      "\u001b[1;31mTypeError\u001b[0m: 'NoneType' object is not iterable"
     ]
    }
   ],
   "source": [
    "article(a,b)"
   ]
  },
  {
   "cell_type": "code",
   "execution_count": 3,
   "metadata": {},
   "outputs": [
    {
     "name": "stdout",
     "output_type": "stream",
     "text": [
      "[34, 9, 9, 8, 7, 7, 5, 3]\n"
     ]
    }
   ],
   "source": [
    "k = [9,7,3,5,34,7,8,9]\n",
    "k.sort(reverse=True)\n",
    "print(k)"
   ]
  },
  {
   "cell_type": "code",
   "execution_count": 4,
   "metadata": {},
   "outputs": [
    {
     "name": "stdout",
     "output_type": "stream",
     "text": [
      "[(5, 400), (4, 100), (3, 200), (2, 300), (2, 250), (1, 200)]\n"
     ]
    }
   ],
   "source": [
    "b =[(1,200),(2,300),(5,400),(3,200),(2,250),(4,100)]\n",
    "b.sort(reverse=True)\n",
    "print(b)"
   ]
  },
  {
   "cell_type": "code",
   "execution_count": 7,
   "metadata": {},
   "outputs": [
    {
     "name": "stdout",
     "output_type": "stream",
     "text": [
      "[(5, 400), (2, 300), (2, 250), (1, 200), (3, 200)]\n"
     ]
    }
   ],
   "source": [
    "def article(a, b):\n",
    "    # Sort the list by payment in descending order\n",
    "    b.sort(reverse=True, key=lambda x: x[1])  \n",
    "\n",
    "    allocate = []\n",
    "    \n",
    "    for _ in range(a):\n",
    "        temp_dead = float('inf')  # Large number to track min deadline\n",
    "        pay = 0\n",
    "        selected = None  # To store the best article\n",
    "\n",
    "        for j in b:  # Loop through the list\n",
    "            if j[0] < temp_dead and j[1] > pay:\n",
    "                temp_dead = j[0]\n",
    "                pay = j[1]\n",
    "                selected = j\n",
    "\n",
    "        if selected:  # If an article is selected, add it to the list\n",
    "            allocate.append(selected)\n",
    "            b.remove(selected)  # Remove the selected article from b\n",
    "    \n",
    "    return allocate\n",
    "\n",
    "# Test\n",
    "a = 5\n",
    "b = [(1, 200), (2, 300), (5, 400), (3, 200), (2, 250), (4, 100)]\n",
    "result = article(a, b)\n",
    "print(result)\n"
   ]
  },
  {
   "cell_type": "code",
   "execution_count": null,
   "metadata": {},
   "outputs": [],
   "source": []
  }
 ],
 "metadata": {
  "kernelspec": {
   "display_name": "crewai_env",
   "language": "python",
   "name": "python3"
  },
  "language_info": {
   "codemirror_mode": {
    "name": "ipython",
    "version": 3
   },
   "file_extension": ".py",
   "mimetype": "text/x-python",
   "name": "python",
   "nbconvert_exporter": "python",
   "pygments_lexer": "ipython3",
   "version": "3.12.9"
  }
 },
 "nbformat": 4,
 "nbformat_minor": 2
}
