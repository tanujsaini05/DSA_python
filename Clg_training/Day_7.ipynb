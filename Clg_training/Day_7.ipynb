{
 "cells": [
  {
   "cell_type": "code",
   "execution_count": null,
   "metadata": {},
   "outputs": [],
   "source": []
  },
  {
   "cell_type": "markdown",
   "metadata": {},
   "source": [
    "### 92. Reverse Linked List II\n",
    "\n",
    "Given the head of a singly linked list and two integers left and right where left <= right, reverse the nodes of the list from position left to position right, and return the reversed list."
   ]
  },
  {
   "cell_type": "code",
   "execution_count": null,
   "metadata": {},
   "outputs": [],
   "source": [
    "class Node:\n",
    "    def __init__(self,data):\n",
    "        self.data = data\n",
    "        self.next = next\n",
    "\n",
    "def reverseLL(head):\n",
    "    new_head = None\n",
    "    while head:\n",
    "        temp = head.next\n",
    "        head.next = new_head\n",
    "        new_head = head\n",
    "        head = temp\n",
    "    return new_head\n",
    "\n",
    "def reverseLL2(head,left,right):\n",
    "    i = 0\n",
    "    current = head\n",
    "    for _ in range(i,left):\n",
    "        current = current.next\n",
    "        i+=1\n",
    "    left_st = current\n",
    "    new_tail = current\n",
    "    right_st = current\n",
    "    while i != right and current is not None:\n",
    "        right_st = reverseLL(current)\n",
    "        current = current.next\n",
    "    left_st.next = new_tail\n",
    "    while new_tail is not None:\n",
    "        new_tail = new_tail.next\n",
    "    new_tail.next = right_st\n",
    "\n",
    "    return head\n",
    "\n",
    "\n",
    "\n"
   ]
  },
  {
   "cell_type": "code",
   "execution_count": 3,
   "metadata": {},
   "outputs": [],
   "source": [
    "def reverseLL2(head, left, right):\n",
    "    if not head or left == right:\n",
    "        return head  # No reversal needed\n",
    "\n",
    "    # Create a dummy node to handle edge cases (e.g., left == 1)\n",
    "    dummy = Node(0)\n",
    "    dummy.next = head\n",
    "    prev_left = dummy\n",
    "\n",
    "    # Move prev_left to the node before position 'left'\n",
    "    for _ in range(left - 1):\n",
    "        prev_left = prev_left.next\n",
    "\n",
    "    # Start reversing from the node at position 'left'\n",
    "    current = prev_left.next\n",
    "    next_node = None\n",
    "    prev = None\n",
    "\n",
    "    for _ in range(right - left + 1):\n",
    "        next_node = current.next\n",
    "        current.next = prev\n",
    "        prev = current\n",
    "        current = next_node\n",
    "\n",
    "    # Reconnect the reversed sublist to the rest of the list\n",
    "    prev_left.next.next = current  # Connect the tail of the reversed sublist to the node after 'right'\n",
    "    prev_left.next = prev          # Connect the node before 'left' to the new head of the reversed sublist\n",
    "\n",
    "    return dummy.next  # Return the updated head of the list"
   ]
  },
  {
   "cell_type": "markdown",
   "metadata": {},
   "source": [
    "#### Queue using linked list "
   ]
  },
  {
   "cell_type": "code",
   "execution_count": 12,
   "metadata": {},
   "outputs": [],
   "source": [
    "class Node:\n",
    "    def __init__(self,data):\n",
    "        self.data = data\n",
    "        self.next = next\n"
   ]
  },
  {
   "cell_type": "code",
   "execution_count": 13,
   "metadata": {},
   "outputs": [],
   "source": [
    "class Queue:\n",
    "    def __init__(self):\n",
    "        self.front = None\n",
    "        self.rear  = None\n",
    "    def enqueue(self,data):\n",
    "        new = Node(data)\n",
    "        if self.front is None:\n",
    "            self.front = new\n",
    "            self.rear = new\n",
    "            \n"
   ]
  },
  {
   "cell_type": "code",
   "execution_count": 26,
   "metadata": {},
   "outputs": [],
   "source": [
    "class Stack:\n",
    "    def __init__(self):\n",
    "        self.top = None\n",
    "    def push(self,data):\n",
    "        new = Node(data)\n",
    "        if self.top is None:\n",
    "            self.top = new\n",
    "        else:\n",
    "            new.next = self.top\n",
    "            self.top = new\n",
    "    def pop(self):\n",
    "        if self.isempty():\n",
    "            return -1\n",
    "        temp = self.top\n",
    "        self.top = self.top.next\n",
    "        return temp.data\n",
    "    def isempty(self):\n",
    "        return self.top is None\n",
    "        \n",
    "    def peek(self):\n",
    "        if self.isempty():\n",
    "            return -1\n",
    "        else:\n",
    "            return self.top.data\n",
    "        \n",
    "        \n",
    "    def size(self):\n",
    "        count = 0\n",
    "        current = self.top\n",
    "        while current is not None:\n",
    "            count += 1\n",
    "            current = current.next\n",
    "\n",
    "        return count\n",
    "    def show(self):\n",
    "        current = self.top\n",
    "        while current is not None:\n",
    "            print(current.data ,end = \"  -> \")\n",
    "            current = current.next\n",
    "        \n"
   ]
  },
  {
   "cell_type": "code",
   "execution_count": 27,
   "metadata": {},
   "outputs": [],
   "source": [
    "stack = Stack()\n",
    "\n",
    "stack.push(10)\n",
    "stack.push(20)\n",
    "stack.push(30)\n",
    "stack.push(40)\n",
    "stack.push(50)"
   ]
  },
  {
   "cell_type": "code",
   "execution_count": 28,
   "metadata": {},
   "outputs": [
    {
     "data": {
      "text/plain": [
       "50"
      ]
     },
     "execution_count": 28,
     "metadata": {},
     "output_type": "execute_result"
    }
   ],
   "source": [
    "stack.peek()"
   ]
  },
  {
   "cell_type": "code",
   "execution_count": 29,
   "metadata": {},
   "outputs": [
    {
     "name": "stdout",
     "output_type": "stream",
     "text": [
      "50  -> 40  -> 30  -> 20  -> 10  -> "
     ]
    }
   ],
   "source": [
    "stack.show()"
   ]
  },
  {
   "cell_type": "code",
   "execution_count": 30,
   "metadata": {},
   "outputs": [
    {
     "data": {
      "text/plain": [
       "50"
      ]
     },
     "execution_count": 30,
     "metadata": {},
     "output_type": "execute_result"
    }
   ],
   "source": [
    "stack.pop()"
   ]
  },
  {
   "cell_type": "code",
   "execution_count": 32,
   "metadata": {},
   "outputs": [
    {
     "name": "stdout",
     "output_type": "stream",
     "text": [
      "40  -> 30  -> 20  -> 10  -> "
     ]
    }
   ],
   "source": [
    "stack.show()"
   ]
  },
  {
   "cell_type": "code",
   "execution_count": null,
   "metadata": {},
   "outputs": [],
   "source": []
  }
 ],
 "metadata": {
  "kernelspec": {
   "display_name": "gem_learn",
   "language": "python",
   "name": "python3"
  },
  "language_info": {
   "codemirror_mode": {
    "name": "ipython",
    "version": 3
   },
   "file_extension": ".py",
   "mimetype": "text/x-python",
   "name": "python",
   "nbconvert_exporter": "python",
   "pygments_lexer": "ipython3",
   "version": "3.10.16"
  }
 },
 "nbformat": 4,
 "nbformat_minor": 2
}
