{
 "cells": [
  {
   "cell_type": "markdown",
   "metadata": {},
   "source": [
    "#### Quick Sort\n",
    "\n",
    "*  Pick a Pivot (e.g., the last element).\n",
    "*  Partition the Array:\n",
    "   - Move elements smaller than the pivot to the left.\n",
    "   - Move elements greater than the pivot to the right.\n",
    "* Recursively apply Quick Sort to both halves.\n",
    "\n"
   ]
  },
  {
   "cell_type": "code",
   "execution_count": null,
   "metadata": {},
   "outputs": [],
   "source": [
    "def quick_sort(arr,low,high):\n",
    "    pivot = arr[0]\n",
    "    fst = 1\n",
    "    lst = -1\n",
    "    for j in range(low,high):\n",
    "        if arr[j] <=pivot:\n",
    "            fst+=1"
   ]
  },
  {
   "cell_type": "markdown",
   "metadata": {},
   "source": [
    "- sir ka solution"
   ]
  },
  {
   "cell_type": "code",
   "execution_count": 3,
   "metadata": {},
   "outputs": [],
   "source": [
    "def quicksort(arr,low,high):\n",
    "    if low < high:\n",
    "        pi = partition(arr,low,high)\n",
    "        quick_sort(arr,low,pi-1)\n",
    "        quick_sort(arr,pi+1,high)\n",
    "\n",
    "def partition(arr,low,high):\n",
    "    pivot = median(arr,low,high)\n",
    "    if pivot!=low:\n",
    "        swap(arr,low,pivot)\n",
    "    pivot = arr[low]\n",
    "    i = low+1\n",
    "    j = high\n",
    "    while True:\n",
    "        while (arr[i]<pivot and i<=j):\n",
    "            i+=1\n",
    "        while (arr[j]>pivot and j>=i):\n",
    "            j-=1\n",
    "\n",
    "        if (i<=j):\n",
    "            swap(arr,i,j)\n",
    "        else:\n",
    "            break\n",
    "    swap(arr,low,j)\n",
    "    return j\n",
    "\n",
    "\n",
    "\n",
    "def swap(arr,i,j):\n",
    "    arr[i],arr[j] = arr[j],arr[i]\n",
    "    return arr\n",
    "\n",
    "def median(arr,low,high):\n",
    "    mid = low +(high - low)/2\n",
    "    a,b,c= arr[low],arr[mid],arr[high]\n",
    "    if a>b and a>c:\n",
    "        a,c = arr[high],arr[low]\n",
    "        return low\n",
    "    elif b>a and c>b:\n",
    "        return mid\n",
    "    else:\n",
    "        return high\n",
    "\n"
   ]
  },
  {
   "cell_type": "code",
   "execution_count": 5,
   "metadata": {},
   "outputs": [
    {
     "ename": "TypeError",
     "evalue": "list indices must be integers or slices, not float",
     "output_type": "error",
     "traceback": [
      "\u001b[1;31m---------------------------------------------------------------------------\u001b[0m",
      "\u001b[1;31mTypeError\u001b[0m                                 Traceback (most recent call last)",
      "Cell \u001b[1;32mIn[5], line 1\u001b[0m\n\u001b[1;32m----> 1\u001b[0m \u001b[43mquicksort\u001b[49m\u001b[43m(\u001b[49m\u001b[43m[\u001b[49m\u001b[38;5;241;43m10\u001b[39;49m\u001b[43m,\u001b[49m\u001b[38;5;241;43m12\u001b[39;49m\u001b[43m,\u001b[49m\u001b[38;5;241;43m9\u001b[39;49m\u001b[43m,\u001b[49m\u001b[38;5;241;43m6\u001b[39;49m\u001b[43m,\u001b[49m\u001b[38;5;241;43m4\u001b[39;49m\u001b[43m,\u001b[49m\u001b[38;5;241;43m2\u001b[39;49m\u001b[43m]\u001b[49m\u001b[43m,\u001b[49m\u001b[38;5;241;43m0\u001b[39;49m\u001b[43m,\u001b[49m\u001b[38;5;241;43m5\u001b[39;49m\u001b[43m)\u001b[49m\n",
      "Cell \u001b[1;32mIn[3], line 3\u001b[0m, in \u001b[0;36mquicksort\u001b[1;34m(arr, low, high)\u001b[0m\n\u001b[0;32m      1\u001b[0m \u001b[38;5;28;01mdef\u001b[39;00m\u001b[38;5;250m \u001b[39m\u001b[38;5;21mquicksort\u001b[39m(arr,low,high):\n\u001b[0;32m      2\u001b[0m     \u001b[38;5;28;01mif\u001b[39;00m low \u001b[38;5;241m<\u001b[39m high:\n\u001b[1;32m----> 3\u001b[0m         pi \u001b[38;5;241m=\u001b[39m \u001b[43mpartition\u001b[49m\u001b[43m(\u001b[49m\u001b[43marr\u001b[49m\u001b[43m,\u001b[49m\u001b[43mlow\u001b[49m\u001b[43m,\u001b[49m\u001b[43mhigh\u001b[49m\u001b[43m)\u001b[49m\n\u001b[0;32m      4\u001b[0m         quick_sort(arr,low,pi\u001b[38;5;241m-\u001b[39m\u001b[38;5;241m1\u001b[39m)\n\u001b[0;32m      5\u001b[0m         quick_sort(arr,pi\u001b[38;5;241m+\u001b[39m\u001b[38;5;241m1\u001b[39m,high)\n",
      "Cell \u001b[1;32mIn[3], line 8\u001b[0m, in \u001b[0;36mpartition\u001b[1;34m(arr, low, high)\u001b[0m\n\u001b[0;32m      7\u001b[0m \u001b[38;5;28;01mdef\u001b[39;00m\u001b[38;5;250m \u001b[39m\u001b[38;5;21mpartition\u001b[39m(arr,low,high):\n\u001b[1;32m----> 8\u001b[0m     pivot \u001b[38;5;241m=\u001b[39m \u001b[43mmedian\u001b[49m\u001b[43m(\u001b[49m\u001b[43marr\u001b[49m\u001b[43m,\u001b[49m\u001b[43mlow\u001b[49m\u001b[43m,\u001b[49m\u001b[43mhigh\u001b[49m\u001b[43m)\u001b[49m\n\u001b[0;32m      9\u001b[0m     \u001b[38;5;28;01mif\u001b[39;00m pivot\u001b[38;5;241m!=\u001b[39mlow:\n\u001b[0;32m     10\u001b[0m         swap(arr,low,pivot)\n",
      "Cell \u001b[1;32mIn[3], line 35\u001b[0m, in \u001b[0;36mmedian\u001b[1;34m(arr, low, high)\u001b[0m\n\u001b[0;32m     33\u001b[0m \u001b[38;5;28;01mdef\u001b[39;00m\u001b[38;5;250m \u001b[39m\u001b[38;5;21mmedian\u001b[39m(arr,low,high):\n\u001b[0;32m     34\u001b[0m     mid \u001b[38;5;241m=\u001b[39m low \u001b[38;5;241m+\u001b[39m(high \u001b[38;5;241m-\u001b[39m low)\u001b[38;5;241m/\u001b[39m\u001b[38;5;241m2\u001b[39m\n\u001b[1;32m---> 35\u001b[0m     a,b,c\u001b[38;5;241m=\u001b[39m arr[low],\u001b[43marr\u001b[49m\u001b[43m[\u001b[49m\u001b[43mmid\u001b[49m\u001b[43m]\u001b[49m,arr[high]\n\u001b[0;32m     36\u001b[0m     \u001b[38;5;28;01mif\u001b[39;00m a\u001b[38;5;241m>\u001b[39mb \u001b[38;5;129;01mand\u001b[39;00m a\u001b[38;5;241m>\u001b[39mc:\n\u001b[0;32m     37\u001b[0m         a,c \u001b[38;5;241m=\u001b[39m arr[high],arr[low]\n",
      "\u001b[1;31mTypeError\u001b[0m: list indices must be integers or slices, not float"
     ]
    }
   ],
   "source": [
    "quicksort([10,12,9,6,4,2],0,5)"
   ]
  },
  {
   "cell_type": "code",
   "execution_count": null,
   "metadata": {},
   "outputs": [
    {
     "ename": "TypeError",
     "evalue": "list indices must be integers or slices, not float",
     "output_type": "error",
     "traceback": [
      "\u001b[1;31m---------------------------------------------------------------------------\u001b[0m",
      "\u001b[1;31mTypeError\u001b[0m                                 Traceback (most recent call last)",
      "Cell \u001b[1;32mIn[2], line 9\u001b[0m\n\u001b[0;32m      5\u001b[0m         a,c \u001b[38;5;241m=\u001b[39m arr[high],arr[low]\n\u001b[0;32m      6\u001b[0m     \u001b[38;5;28;01mreturn\u001b[39;00m mid\n\u001b[1;32m----> 9\u001b[0m \u001b[43mmedian\u001b[49m\u001b[43m(\u001b[49m\u001b[43m[\u001b[49m\u001b[38;5;241;43m1\u001b[39;49m\u001b[43m,\u001b[49m\u001b[38;5;241;43m9\u001b[39;49m\u001b[43m,\u001b[49m\u001b[38;5;241;43m3\u001b[39;49m\u001b[43m]\u001b[49m\u001b[43m,\u001b[49m\u001b[38;5;241;43m0\u001b[39;49m\u001b[43m,\u001b[49m\u001b[38;5;241;43m5\u001b[39;49m\u001b[43m)\u001b[49m\n",
      "Cell \u001b[1;32mIn[2], line 3\u001b[0m, in \u001b[0;36mmedian\u001b[1;34m(arr, low, high)\u001b[0m\n\u001b[0;32m      1\u001b[0m \u001b[38;5;28;01mdef\u001b[39;00m\u001b[38;5;250m \u001b[39m\u001b[38;5;21mmedian\u001b[39m(arr,low,high):\n\u001b[0;32m      2\u001b[0m     mid \u001b[38;5;241m=\u001b[39m low \u001b[38;5;241m+\u001b[39m(high \u001b[38;5;241m-\u001b[39m low)\u001b[38;5;241m/\u001b[39m\u001b[38;5;241m2\u001b[39m\n\u001b[1;32m----> 3\u001b[0m     a,b,c\u001b[38;5;241m=\u001b[39m arr[low],\u001b[43marr\u001b[49m\u001b[43m[\u001b[49m\u001b[43mmid\u001b[49m\u001b[43m]\u001b[49m,arr[high]\n\u001b[0;32m      4\u001b[0m     \u001b[38;5;28;01mif\u001b[39;00m a\u001b[38;5;241m>\u001b[39mb \u001b[38;5;129;01mand\u001b[39;00m a\u001b[38;5;241m>\u001b[39mc:\n\u001b[0;32m      5\u001b[0m         a,c \u001b[38;5;241m=\u001b[39m arr[high],arr[low]\n",
      "\u001b[1;31mTypeError\u001b[0m: list indices must be integers or slices, not float"
     ]
    }
   ],
   "source": [
    "\n",
    "def median(arr,low,high):\n",
    "    mid = low +(high - low)/2\n",
    "    a,b,c= arr[low],arr[mid],arr[high]\n",
    "    if a>b and a>c:\n",
    "        a,c = arr[high],arr[low]\n",
    "        return low\n",
    "    elif b>a and c>b:\n",
    "        return mid\n",
    "    else:\n",
    "        return high\n",
    "\n",
    "\n",
    "median([1,9,3],0,5)"
   ]
  },
  {
   "cell_type": "code",
   "execution_count": null,
   "metadata": {},
   "outputs": [],
   "source": []
  }
 ],
 "metadata": {
  "kernelspec": {
   "display_name": "gem_learn",
   "language": "python",
   "name": "python3"
  },
  "language_info": {
   "codemirror_mode": {
    "name": "ipython",
    "version": 3
   },
   "file_extension": ".py",
   "mimetype": "text/x-python",
   "name": "python",
   "nbconvert_exporter": "python",
   "pygments_lexer": "ipython3",
   "version": "3.10.16"
  }
 },
 "nbformat": 4,
 "nbformat_minor": 2
}
