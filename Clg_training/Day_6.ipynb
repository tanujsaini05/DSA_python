{
 "cells": [
  {
   "cell_type": "markdown",
   "metadata": {},
   "source": [
    "#### Linked List\n",
    "\n",
    "collection of Node\n"
   ]
  },
  {
   "cell_type": "code",
   "execution_count": 1,
   "metadata": {},
   "outputs": [],
   "source": [
    "class Node:\n",
    "    def __init__(self,data):\n",
    "        self.data = data\n",
    "        self.next = None\n",
    "\n",
    "class LinkedList:\n",
    "    def __init__(self):\n",
    "        self.head = None\n",
    "        self.size = 0\n",
    "\n",
    "    def get(self,index):\n",
    "        if index <0 or index>=self.size:\n",
    "            return -1\n",
    "        current = self.head\n",
    "        for i in range(index):\n",
    "            current = current.next\n",
    "        return current.data \n",
    "\n",
    "\n",
    "    def addatHead(self,x):\n",
    "        new = Node(x)\n",
    "        if self.head is None:\n",
    "            self.head = new\n",
    "        else:\n",
    "            new.next = self.head\n",
    "            self.head = new\n",
    "        self.size += 1\n",
    "    def addAtTail(self,x):\n",
    "        new = Node(x)\n",
    "        if self.head==None:\n",
    "            self.head=new\n",
    "        current = self.head   ### either we can call add at head\n",
    "        while current is not None:\n",
    "            current = current.next\n",
    "        current.next = new\n",
    "        self.size +=1\n",
    "\n",
    "    def addAtindex(self,x,y):\n",
    "        if x < 0 and self.size<x:\n",
    "            return\n",
    "        if x == 0:\n",
    "            self.addatHead(y)\n",
    "        if x == self.size:\n",
    "            self.addAtTail(y)\n",
    "        if x >0 and x<self.size:\n",
    "            c=0\n",
    "            current = self.head\n",
    "            while current is not None:\n",
    "                if c == x-1:\n",
    "                    break\n",
    "                current = current.next\n",
    "                c+=1\n",
    "            new = Node(y)\n",
    "            new.next = current.next\n",
    "            current.next = new\n",
    "\n",
    "    def deleteAtIndex(self,x):\n",
    "        if x < 0 or x >=self.size:\n",
    "            return\n",
    "        elif x == 0:\n",
    "            self.head = self.head.next\n",
    "        else:\n",
    "            for _ in range(0,x-1):\n",
    "                current = current.next\n",
    "            current.next = current.next.next\n",
    "        self.size -= 1\n",
    "        \n",
    "\n",
    "            \n",
    "\n",
    "\n",
    "\n",
    "\n",
    "        "
   ]
  },
  {
   "cell_type": "markdown",
   "metadata": {},
   "source": [
    "#### 206. Reverse Linked List\n",
    "\n",
    "Given the head of a singly linked list, reverse the list, and return the reversed list."
   ]
  },
  {
   "cell_type": "code",
   "execution_count": 3,
   "metadata": {},
   "outputs": [],
   "source": [
    "    \n",
    "\n",
    "def reverseLL(head):\n",
    "    new_head = None\n",
    "    while head:\n",
    "        temp = head.next\n",
    "        head.next = new_head\n",
    "        new_head = head\n",
    "        head = temp\n",
    "    return new_head\n",
    "\n",
    "\n"
   ]
  },
  {
   "cell_type": "code",
   "execution_count": 4,
   "metadata": {},
   "outputs": [],
   "source": [
    "def traverse(a):\n",
    "\n",
    "    current = a\n",
    "    while current:\n",
    "        print(current.data ,end = ' -> ')\n",
    "        current = current.next\n",
    "    print(None)"
   ]
  },
  {
   "cell_type": "code",
   "execution_count": 9,
   "metadata": {},
   "outputs": [],
   "source": [
    "a = Node(7)\n",
    "a.next = Node(2)\n",
    "b = a.next\n",
    "b.next = Node(3)\n",
    "c = b.next\n",
    "\n",
    "c.next = Node(1)\n",
    "d = c.next"
   ]
  },
  {
   "cell_type": "code",
   "execution_count": 10,
   "metadata": {},
   "outputs": [
    {
     "name": "stdout",
     "output_type": "stream",
     "text": [
      "1 -> 3 -> 2 -> 7 -> None\n"
     ]
    }
   ],
   "source": [
    "traverse(reverseLL(a))"
   ]
  },
  {
   "cell_type": "code",
   "execution_count": 14,
   "metadata": {},
   "outputs": [],
   "source": [
    "def oddEvenList(head):\n",
    "        even_head = head.next\n",
    "        odd_head = head\n",
    "        curr = even_head.next\n",
    "        while curr is not None:\n",
    "            if curr.data % 2 == 0:\n",
    "                even_head.next = curr\n",
    "                even_head = even_head.next\n",
    "            else:\n",
    "                odd_head.next = curr\n",
    "                odd_head = odd_head.next\n",
    "            curr = curr.next\n",
    "        odd_head.next = head.next\n",
    "        return head"
   ]
  },
  {
   "cell_type": "code",
   "execution_count": 15,
   "metadata": {},
   "outputs": [
    {
     "ename": "AttributeError",
     "evalue": "'NoneType' object has no attribute 'next'",
     "output_type": "error",
     "traceback": [
      "\u001b[1;31m---------------------------------------------------------------------------\u001b[0m",
      "\u001b[1;31mAttributeError\u001b[0m                            Traceback (most recent call last)",
      "Cell \u001b[1;32mIn[15], line 1\u001b[0m\n\u001b[1;32m----> 1\u001b[0m traverse(\u001b[43moddEvenList\u001b[49m\u001b[43m(\u001b[49m\u001b[43ma\u001b[49m\u001b[43m)\u001b[49m)\n",
      "Cell \u001b[1;32mIn[14], line 4\u001b[0m, in \u001b[0;36moddEvenList\u001b[1;34m(head)\u001b[0m\n\u001b[0;32m      2\u001b[0m even_head \u001b[38;5;241m=\u001b[39m head\u001b[38;5;241m.\u001b[39mnext\n\u001b[0;32m      3\u001b[0m odd_head \u001b[38;5;241m=\u001b[39m head\n\u001b[1;32m----> 4\u001b[0m curr \u001b[38;5;241m=\u001b[39m \u001b[43meven_head\u001b[49m\u001b[38;5;241;43m.\u001b[39;49m\u001b[43mnext\u001b[49m\n\u001b[0;32m      5\u001b[0m \u001b[38;5;28;01mwhile\u001b[39;00m curr \u001b[38;5;129;01mis\u001b[39;00m \u001b[38;5;129;01mnot\u001b[39;00m \u001b[38;5;28;01mNone\u001b[39;00m:\n\u001b[0;32m      6\u001b[0m     \u001b[38;5;28;01mif\u001b[39;00m curr\u001b[38;5;241m.\u001b[39mdata \u001b[38;5;241m%\u001b[39m \u001b[38;5;241m2\u001b[39m \u001b[38;5;241m==\u001b[39m \u001b[38;5;241m0\u001b[39m:\n",
      "\u001b[1;31mAttributeError\u001b[0m: 'NoneType' object has no attribute 'next'"
     ]
    }
   ],
   "source": [
    "traverse(oddEvenList(a))"
   ]
  },
  {
   "cell_type": "markdown",
   "metadata": {},
   "source": [
    "#### 2. Add Two Numbers\n",
    "\n",
    "You are given two non-empty linked lists representing two non-negative integers. The digits are stored in reverse order, and each of their nodes contains a single digit. Add the two numbers and return the sum as a linked list.\n",
    "\n",
    "You may assume the two numbers do not contain any leading zero, except the number 0 itself."
   ]
  },
  {
   "cell_type": "code",
   "execution_count": null,
   "metadata": {},
   "outputs": [],
   "source": [
    "class Node:\n",
    "    def __init__(self,data):\n",
    "        self.data = data\n",
    "        self.next = None\n"
   ]
  },
  {
   "cell_type": "code",
   "execution_count": null,
   "metadata": {},
   "outputs": [],
   "source": [
    "def add2LL(h1,h2):\n",
    "    dummy_head = Node(0)\n",
    "    tail = dummy_head\n",
    "    carry = 0\n",
    "    while h1 is not None or h2 is not None or carry != 0:\n",
    "        digit1 = h1.data if h1 is not None else 0\n",
    "        digit2 =  h2.data if h2 is not None else 0\n",
    "        sum = digit1 + digit2 + carry\n",
    "        digit = sum % 10\n",
    "        carry = sum //10\n",
    "        \n",
    "        new_node = Node(digit)\n",
    "        tail.next = new_node\n",
    "        tail = tail.next\n",
    "\n",
    "        l1 = l1.next if l1 is not None else None\n",
    "        l2 = l2.next if l2 is not None else None\n",
    "    result = dummy_head.next\n",
    "    dummy_head.next = None\n",
    "    return result\n"
   ]
  },
  {
   "cell_type": "code",
   "execution_count": null,
   "metadata": {},
   "outputs": [],
   "source": [
    "class Node:\n",
    "    def __init__(self,data):\n",
    "        self.data = data\n",
    "        self.next = next\n",
    "\n",
    "def reverseLL(head):\n",
    "    new_head = None\n",
    "    while head:\n",
    "        temp = head.next\n",
    "        head.next = new_head\n",
    "        new_head = head\n",
    "        head = temp\n",
    "    return new_head\n",
    "\n",
    "def reverseLL2(head,left,right):\n",
    "    i = 0\n",
    "    current = head\n",
    "    for _ in range(i,left):\n",
    "        current = current.next\n",
    "        i+=1\n",
    "    while i != right and current is not None:\n",
    "         \n",
    "    \n",
    "\n"
   ]
  }
 ],
 "metadata": {
  "kernelspec": {
   "display_name": "gem_learn",
   "language": "python",
   "name": "python3"
  },
  "language_info": {
   "codemirror_mode": {
    "name": "ipython",
    "version": 3
   },
   "file_extension": ".py",
   "mimetype": "text/x-python",
   "name": "python",
   "nbconvert_exporter": "python",
   "pygments_lexer": "ipython3",
   "version": "3.10.16"
  }
 },
 "nbformat": 4,
 "nbformat_minor": 2
}
