{
 "cells": [
  {
   "cell_type": "markdown",
   "metadata": {},
   "source": [
    "#### Selection sort\n",
    "\n",
    "1. Find the smallest element in the array.\n",
    "2. Swap it with the first element.\n",
    "3. Move to the next position and find the next smallest element in the remaining unsorted part.\n",
    "4. Swap it with the second element.\n",
    "5. Repeat until the array is sorted."
   ]
  },
  {
   "cell_type": "code",
   "execution_count": 1,
   "metadata": {},
   "outputs": [],
   "source": [
    "def selection_sort(arr):\n",
    "    n= len(arr)\n",
    "    for i in range(n):\n",
    "        min = i\n",
    "        for j in range(i+1,n):\n",
    "            if arr[j] <arr[min]:\n",
    "                min = j\n",
    "        arr[i],arr[min] = arr[min],arr[i]\n",
    "    return arr"
   ]
  },
  {
   "cell_type": "code",
   "execution_count": 2,
   "metadata": {},
   "outputs": [
    {
     "data": {
      "text/plain": [
       "[3, 3, 4, 5, 6, 8, 9]"
      ]
     },
     "execution_count": 2,
     "metadata": {},
     "output_type": "execute_result"
    }
   ],
   "source": [
    "selection_sort([4,3,5,3,6,8,9])"
   ]
  },
  {
   "cell_type": "markdown",
   "metadata": {},
   "source": [
    "### Bubble sort\n",
    "\n",
    "1. Compare the first two elements. If the first is greater than the second, swap them.\n",
    "2. Move to the next pair and repeat the comparison and swap if necessary.\n",
    "3. Continue this process until the largest element \"bubbles up\" to the end.\n",
    "4. Repeat the process for the remaining elements until the entire array is sorted."
   ]
  },
  {
   "cell_type": "code",
   "execution_count": 25,
   "metadata": {},
   "outputs": [],
   "source": [
    "def bubble_sort(arr):\n",
    "    \n",
    "    for i in range(len(arr)):\n",
    "        \n",
    "        for j in range(i,len(arr)):\n",
    "            bub = i\n",
    "\n",
    "            if arr[bub] < arr[j]:\n",
    "                bub = j\n",
    "            else:\n",
    "                arr[bub],arr[j] = arr[j],arr[bub]\n",
    "    return arr\n",
    "\n"
   ]
  },
  {
   "cell_type": "code",
   "execution_count": 26,
   "metadata": {},
   "outputs": [
    {
     "data": {
      "text/plain": [
       "[11, 22, 33, 55, 66, 77, 88, 99]"
      ]
     },
     "execution_count": 26,
     "metadata": {},
     "output_type": "execute_result"
    }
   ],
   "source": [
    "bubble_sort([33,22,11,55,99,88,77,66])"
   ]
  },
  {
   "cell_type": "code",
   "execution_count": 21,
   "metadata": {},
   "outputs": [],
   "source": [
    "def sort(arr):\n",
    "    for i in range(len(arr)):\n",
    "        for j in range(len(arr)-1-i):\n",
    "            if arr[j] > arr[j+1]:\n",
    "                arr[j],arr[j+1] = arr[j+1],arr[j]\n",
    "    return arr"
   ]
  },
  {
   "cell_type": "code",
   "execution_count": 22,
   "metadata": {},
   "outputs": [
    {
     "data": {
      "text/plain": [
       "[33, 44, 66, 77, 88]"
      ]
     },
     "execution_count": 22,
     "metadata": {},
     "output_type": "execute_result"
    }
   ],
   "source": [
    "sort([33,44,66,77,88])"
   ]
  },
  {
   "cell_type": "markdown",
   "metadata": {},
   "source": [
    "#### Insertion Sort\n",
    "\n",
    "1. Assume the first element is already sorted.\n",
    "2. Pick the next element and compare it with the elements in the sorted part.\n",
    "3. Shift elements to the right if they are greater than the picked element.\n",
    "4. Insert the picked element at the correct position.\n",
    "5. Repeat until the array is sorted."
   ]
  },
  {
   "cell_type": "code",
   "execution_count": null,
   "metadata": {},
   "outputs": [],
   "source": [
    "def insertion_sort(arr):\n",
    "    for i in range(1,len(arr)):\n",
    "        for j in range(1,i):\n",
    "            if arr[j-1] > arr[j] and arr[j]< arr[j+1]:\n"
   ]
  },
  {
   "cell_type": "code",
   "execution_count": null,
   "metadata": {},
   "outputs": [],
   "source": [
    "def sir_insert(arr):\n",
    "    for i in range(len(arr)):\n",
    "        card = arr[i]\n",
    "        j = i-1\n",
    "        while j >= 0 and arr[j] > card:\n",
    "            arr[j+1] = arr[j]\n",
    "            j+=1\n",
    "        arr[j+1] = card\n",
    "    return arr\n",
    "\n",
    "        "
   ]
  },
  {
   "cell_type": "code",
   "execution_count": null,
   "metadata": {},
   "outputs": [],
   "source": []
  }
 ],
 "metadata": {
  "kernelspec": {
   "display_name": "gem_learn",
   "language": "python",
   "name": "python3"
  },
  "language_info": {
   "codemirror_mode": {
    "name": "ipython",
    "version": 3
   },
   "file_extension": ".py",
   "mimetype": "text/x-python",
   "name": "python",
   "nbconvert_exporter": "python",
   "pygments_lexer": "ipython3",
   "version": "3.10.16"
  }
 },
 "nbformat": 4,
 "nbformat_minor": 2
}
