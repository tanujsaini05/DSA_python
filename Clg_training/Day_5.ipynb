{
 "cells": [
  {
   "cell_type": "markdown",
   "metadata": {},
   "source": [
    "### Today's  target\n",
    "- Merge Sort\n",
    "- Strings\n",
    "- Linked List(Design)"
   ]
  },
  {
   "cell_type": "code",
   "execution_count": 7,
   "metadata": {},
   "outputs": [
    {
     "name": "stdout",
     "output_type": "stream",
     "text": [
      "ABCDEFG"
     ]
    }
   ],
   "source": [
    "# Strings\n",
    "\n",
    "# length\n",
    "# charat\n",
    "# subarray\n",
    "a=\"ABCDEFG\"\n",
    "for i in a:\n",
    "    print(i ,end = \"\")\n"
   ]
  },
  {
   "cell_type": "code",
   "execution_count": 8,
   "metadata": {},
   "outputs": [
    {
     "name": "stdout",
     "output_type": "stream",
     "text": [
      "BDF\n"
     ]
    }
   ],
   "source": [
    "print(a[1:6:2])"
   ]
  },
  {
   "cell_type": "code",
   "execution_count": 25,
   "metadata": {},
   "outputs": [
    {
     "name": "stdout",
     "output_type": "stream",
     "text": [
      "-1ABCDEFG\n"
     ]
    }
   ],
   "source": [
    "print(a.find(\"e\"),end=\"\")\n",
    "print(a)"
   ]
  },
  {
   "cell_type": "markdown",
   "metadata": {},
   "source": [
    "### 28. Find the Index of the First Occurrence in a String\n",
    "\n",
    "Given two strings 'needle' and 'haystack', return the index of the first occurrence of needle in haystack, or -1 if needle is not part of haystack."
   ]
  },
  {
   "cell_type": "code",
   "execution_count": null,
   "metadata": {},
   "outputs": [],
   "source": [
    "def leet28(a,b):\n",
    "    c = \"\"\n",
    "    count = 0\n",
    "    for i in b:\n",
    "        if i in a:\n",
    "            \n",
    "            c+= i\n",
    "            if c == a:\n",
    "                return count-len(c)-1\n",
    "            count+=1\n",
    "        else:\n",
    "            c=\"\"\n",
    "            count+=1\n",
    "\n",
    "    return len(a)-len(c)-1"
   ]
  },
  {
   "cell_type": "code",
   "execution_count": 34,
   "metadata": {},
   "outputs": [
    {
     "data": {
      "text/plain": [
       "4"
      ]
     },
     "execution_count": 34,
     "metadata": {},
     "output_type": "execute_result"
    }
   ],
   "source": [
    "leet28(\"abcdefgh\",\"cde\")"
   ]
  },
  {
   "cell_type": "code",
   "execution_count": null,
   "metadata": {},
   "outputs": [],
   "source": [
    "def leet28(a,b):\n",
    "    if b not in a:\n",
    "        return -1\n",
    "    count = 0\n",
    "    for i in a:\n",
    "        \n",
    "        if i == b[0]:\n",
    "            dummy = \"\"\n",
    "            try:\n",
    "                for j in a[count:(count+len(b))]:\n",
    "                    dummy = dummy +j\n",
    "                    \n",
    "                if dummy == b:\n",
    "                    return count - len(b)\n",
    "            except:\n",
    "                return -1\n",
    "        count +=1\n",
    "\n"
   ]
  },
  {
   "cell_type": "code",
   "execution_count": 44,
   "metadata": {},
   "outputs": [
    {
     "name": "stdout",
     "output_type": "stream",
     "text": [
      "a\n",
      "a\n",
      "a\n"
     ]
    },
    {
     "data": {
      "text/plain": [
       "-1"
      ]
     },
     "execution_count": 44,
     "metadata": {},
     "output_type": "execute_result"
    }
   ],
   "source": [
    "leet28(\"abcdefgh\",\"cde\")"
   ]
  },
  {
   "cell_type": "code",
   "execution_count": null,
   "metadata": {},
   "outputs": [],
   "source": [
    "def sirkasolution(a,b):\n",
    "    for i in range((len(a)-len(b))+1):\n",
    "        if a[i:i+len(b)] == b:\n",
    "            return i\n",
    "    return -1\n"
   ]
  },
  {
   "cell_type": "code",
   "execution_count": 48,
   "metadata": {},
   "outputs": [
    {
     "data": {
      "text/plain": [
       "2"
      ]
     },
     "execution_count": 48,
     "metadata": {},
     "output_type": "execute_result"
    }
   ],
   "source": [
    "sirkasolution(\"abcdefgh\",\"cde\")"
   ]
  },
  {
   "cell_type": "markdown",
   "metadata": {},
   "source": [
    "#### 459. Repeated Substring Pattern\n",
    "\n",
    "Given a string s, check if it can be constructed by taking a substring of it and appending multiple copies of the substring together."
   ]
  },
  {
   "cell_type": "code",
   "execution_count": null,
   "metadata": {},
   "outputs": [],
   "source": [
    "def repeatsubstring(s):\n",
    "    dumm = \"\"\n",
    "    for i in range(1,len(s)):\n",
    "        if s[i] not in dumm:\n",
    "            dumm = dumm + s[i]\n",
    "        else:\n",
    "            break\n",
    "    l = len(dumm)\n",
    "    for i in range(0,len(s),l):\n",
    "        if s[i:i+l] == dumm:\n",
    "            continue\n",
    "        else:\n",
    "            return False\n",
    "    return True\n"
   ]
  },
  {
   "cell_type": "code",
   "execution_count": 56,
   "metadata": {},
   "outputs": [
    {
     "data": {
      "text/plain": [
       "False"
      ]
     },
     "execution_count": 56,
     "metadata": {},
     "output_type": "execute_result"
    }
   ],
   "source": [
    "repeatsubstring(\"abaababaab\")"
   ]
  },
  {
   "cell_type": "code",
   "execution_count": 57,
   "metadata": {},
   "outputs": [],
   "source": [
    "def shortpalindrome(s):\n",
    "    dumm = \"\"\n",
    "    for i in range(1,len(s)):\n",
    "        dumm = dumm + s[i]\n",
    "    return dumm + s"
   ]
  },
  {
   "cell_type": "code",
   "execution_count": null,
   "metadata": {},
   "outputs": [],
   "source": []
  }
 ],
 "metadata": {
  "kernelspec": {
   "display_name": "gem_learn",
   "language": "python",
   "name": "python3"
  },
  "language_info": {
   "codemirror_mode": {
    "name": "ipython",
    "version": 3
   },
   "file_extension": ".py",
   "mimetype": "text/x-python",
   "name": "python",
   "nbconvert_exporter": "python",
   "pygments_lexer": "ipython3",
   "version": "3.10.16"
  }
 },
 "nbformat": 4,
 "nbformat_minor": 2
}
