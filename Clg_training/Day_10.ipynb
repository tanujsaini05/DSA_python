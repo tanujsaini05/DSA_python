{
 "cells": [
  {
   "cell_type": "code",
   "execution_count": 7,
   "metadata": {},
   "outputs": [],
   "source": [
    "def swap(arr,a,b):\n",
    "    arr[a],arr[b] = arr[b],arr[a]\n",
    "\n",
    "\n",
    "def partition(arr,lb,ub):\n",
    "    pivot  = arr[lb]\n",
    "    start = lb\n",
    "    end = ub\n",
    "    while start<end :\n",
    "        while arr[start] <= pivot and start<=ub:\n",
    "            start +=1\n",
    "        while arr[end] > pivot:\n",
    "            end -= 1\n",
    "\n",
    "\n",
    "        if start<end:\n",
    "            swap(arr,start,end)\n",
    "    swap(arr,lb,end)\n",
    "    return end\n",
    "\n",
    "def QuickSort(arr,lb,ub):\n",
    "    if lb < ub:\n",
    "        loc = partition(arr,lb,ub)\n",
    "        QuickSort(arr,lb,loc-1)\n",
    "        QuickSort(arr,loc+1,ub)\n",
    "    return arr\n"
   ]
  },
  {
   "cell_type": "code",
   "execution_count": 8,
   "metadata": {},
   "outputs": [
    {
     "data": {
      "text/plain": [
       "[0, 2, 3, 5, 7, 9]"
      ]
     },
     "execution_count": 8,
     "metadata": {},
     "output_type": "execute_result"
    }
   ],
   "source": [
    "QuickSort([7,5,9,3,0,2],0,5)"
   ]
  },
  {
   "cell_type": "code",
   "execution_count": 14,
   "metadata": {},
   "outputs": [
    {
     "data": {
      "text/plain": [
       "-2.3333333333333335"
      ]
     },
     "execution_count": 14,
     "metadata": {},
     "output_type": "execute_result"
    }
   ],
   "source": [
    "7/-3"
   ]
  },
  {
   "cell_type": "code",
   "execution_count": null,
   "metadata": {},
   "outputs": [],
   "source": []
  }
 ],
 "metadata": {
  "kernelspec": {
   "display_name": "crewai_env",
   "language": "python",
   "name": "python3"
  },
  "language_info": {
   "codemirror_mode": {
    "name": "ipython",
    "version": 3
   },
   "file_extension": ".py",
   "mimetype": "text/x-python",
   "name": "python",
   "nbconvert_exporter": "python",
   "pygments_lexer": "ipython3",
   "version": "3.12.9"
  }
 },
 "nbformat": 4,
 "nbformat_minor": 2
}
