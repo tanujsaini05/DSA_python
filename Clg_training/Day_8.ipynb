{
 "cells": [
  {
   "cell_type": "code",
   "execution_count": 1,
   "metadata": {},
   "outputs": [],
   "source": [
    "from collections import deque"
   ]
  },
  {
   "cell_type": "code",
   "execution_count": 7,
   "metadata": {},
   "outputs": [],
   "source": [
    "a = deque()\n",
    "a.append(10)\n",
    "a.append(20)\n",
    "a.append(30)\n",
    "a.append(40)\n",
    "a.append(50)\n"
   ]
  },
  {
   "cell_type": "code",
   "execution_count": 8,
   "metadata": {},
   "outputs": [
    {
     "data": {
      "text/plain": [
       "50"
      ]
     },
     "execution_count": 8,
     "metadata": {},
     "output_type": "execute_result"
    }
   ],
   "source": [
    "a.pop()"
   ]
  },
  {
   "cell_type": "code",
   "execution_count": 9,
   "metadata": {},
   "outputs": [
    {
     "name": "stdout",
     "output_type": "stream",
     "text": [
      "deque([10, 20, 30, 40])\n"
     ]
    }
   ],
   "source": [
    "print(a)"
   ]
  },
  {
   "cell_type": "code",
   "execution_count": 15,
   "metadata": {},
   "outputs": [],
   "source": [
    "class Node:\n",
    "    def __init__(self,data):\n",
    "        self.data = data\n",
    "        self.next = None\n",
    "\n",
    "class Dequeue:\n",
    "    def __init__(self):\n",
    "        self.head = None\n",
    "        self.tail = None\n",
    "        self.size = 0  \n",
    "\n",
    "    def isempty(self):\n",
    "        if self.size == 0:\n",
    "            return True\n",
    "        else:\n",
    "            return False\n",
    "\n",
    "    def insert_front(self,data):\n",
    "        new_node = Node(data)\n",
    "        if not self.head:\n",
    "            self.head = self.tail = new_node\n",
    "        else:\n",
    "            new_node.next = self.head\n",
    "            self.head = new_node\n",
    "        self.size += 1\n",
    "    \n",
    "    def insert_rear(self,data):\n",
    "        new_node = Node(self.data)\n",
    "        if not self.tail:\n",
    "            self.head = self.tail = new_node\n",
    "        else:\n",
    "            self.tail.next = new_node\n",
    "            self.tail = new_node\n",
    "        self.size += 1\n",
    "\n",
    "\n",
    "    def delete_front(self):\n",
    "        if not self.head:\n",
    "            return \"queue is empty\"\n",
    "        removed_data = self.head.data\n",
    "        self.head = self.head.next\n",
    "        if not self.head:  \n",
    "            self.tail = None\n",
    "        self.size -= 1\n",
    "        return removed_data\n",
    "    \n",
    "    def delete_last(self):\n",
    "        if not self.tail:\n",
    "            return \"queue is already empty\"\n",
    "        if self.head == self.tail:\n",
    "            removed_data = self.tail.data\n",
    "            self.head = self.tail = None\n",
    "        else:\n",
    "            current = self.head\n",
    "            while current.next != self.tail:\n",
    "                current = current.next\n",
    "            removed_data = self.tail.data\n",
    "            self.tail = current\n",
    "            self.tail.next = None\n",
    "        self.size -= 1\n",
    "        return removed_data\n",
    "\n",
    "\n",
    "    def peek_first(self):\n",
    "        if self.isempty():\n",
    "            return -1\n",
    "        else:\n",
    "            return self.head.data\n",
    "        \n",
    "    def peek_last(self):\n",
    "        if self.isempty():\n",
    "            return -1\n",
    "        else:\n",
    "            return self.tail.data\n",
    "    \n"
   ]
  },
  {
   "cell_type": "code",
   "execution_count": 16,
   "metadata": {},
   "outputs": [],
   "source": [
    "a= Dequeue()\n",
    "a.insert_front(2)\n",
    "a.insert_front(3)\n",
    "a.insert_front(4)\n",
    "a.insert_front(5)\n",
    "a.insert_front(6)\n",
    "a.insert_front(7)"
   ]
  },
  {
   "cell_type": "code",
   "execution_count": 17,
   "metadata": {},
   "outputs": [
    {
     "name": "stdout",
     "output_type": "stream",
     "text": [
      "2\n",
      "7\n",
      "2\n",
      "7\n"
     ]
    }
   ],
   "source": [
    "print(a.peek_last())\n",
    "print(a.peek_first())\n",
    "print(a.delete_last())\n",
    "print(a.delete_front())"
   ]
  },
  {
   "cell_type": "code",
   "execution_count": null,
   "metadata": {},
   "outputs": [],
   "source": [
    "def astroid(arr):\n",
    "    a = []\n",
    "    for i in arr:\n",
    "        while True:\n",
    "                \n",
    "            if a is None:\n",
    "                a.append(i)\n",
    "            if i >0 :\n",
    "                arr.append(i)\n",
    "                break\n",
    "            elif a[-1] == abs(i):\n",
    "                a.pop()\n",
    "                break\n",
    "            elif a[-1] < abs(i):\n",
    "                a.pop()\n",
    "            else:\n",
    "                break\n",
    "        \n",
    "\n",
    "\n"
   ]
  },
  {
   "cell_type": "code",
   "execution_count": null,
   "metadata": {},
   "outputs": [],
   "source": [
    "def astroied(arr):\n",
    "    a = []\n",
    "    for i in arr:\n",
    "        if i> 0:\n",
    "            a.append(i)\n",
    "        else:\n",
    "            "
   ]
  }
 ],
 "metadata": {
  "kernelspec": {
   "display_name": "crewai_env",
   "language": "python",
   "name": "python3"
  },
  "language_info": {
   "codemirror_mode": {
    "name": "ipython",
    "version": 3
   },
   "file_extension": ".py",
   "mimetype": "text/x-python",
   "name": "python",
   "nbconvert_exporter": "python",
   "pygments_lexer": "ipython3",
   "version": "3.12.9"
  }
 },
 "nbformat": 4,
 "nbformat_minor": 2
}
