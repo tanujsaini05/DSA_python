{
 "cells": [
  {
   "cell_type": "markdown",
   "metadata": {},
   "source": [
    "#### Trees"
   ]
  },
  {
   "cell_type": "code",
   "execution_count": 1,
   "metadata": {},
   "outputs": [],
   "source": [
    "class TreeNode:\n",
    "    def __init__(self,data):\n",
    "        self.data = data\n",
    "        self.left = None\n",
    "        self.right = None\n",
    "    "
   ]
  },
  {
   "cell_type": "code",
   "execution_count": 2,
   "metadata": {},
   "outputs": [],
   "source": [
    "def build_tree(preorder,inorder):\n",
    "    map = { val : idx for idx,val in enumerate(inorder)}\n",
    "    pre_index = 0\n",
    "    def construct(left,right):\n",
    "        if left> right:\n",
    "            return\n",
    "        root_val = preorder[pre_index]\n",
    "        pre_index +=1\n",
    "        root = TreeNode(root_val)\n",
    "\n",
    "        inorder_index = map[root_val]\n",
    "        root.left = construct(left,inorder_index-1)\n",
    "        root.right = construct(inorder_index+1,right)\n",
    "        return root\n",
    "    return construct(0,len(inorder)-1)\n"
   ]
  },
  {
   "cell_type": "markdown",
   "metadata": {},
   "source": [
    "#### sir ka solution"
   ]
  },
  {
   "cell_type": "code",
   "execution_count": 3,
   "metadata": {},
   "outputs": [],
   "source": [
    "from typing import List, Optional\n",
    "\n",
    "class TreeNode:\n",
    "    def __init__(self, val=0, left=None, right=None):\n",
    "        self.val = val\n",
    "        self.left = left\n",
    "        self.right = right\n",
    "\n",
    "class Solution:\n",
    "    def buildTree(self, preorder: List[int], inorder: List[int]) -> Optional[TreeNode]:\n",
    "        self.preorder = preorder\n",
    "        self.inorderIndex = {val: idx for idx, val in enumerate(inorder)}  # Store inorder indices\n",
    "        return self.helper(0, 0, len(inorder))  # Call recursive helper function\n",
    "\n",
    "    def helper(self, preStart: int, inStart: int, size: int) -> Optional[TreeNode]:\n",
    "        if size <= 0:\n",
    "            return None\n",
    "\n",
    "        root_val = self.preorder[preStart]\n",
    "        rootIndex = self.inorderIndex[root_val]\n",
    "        leftSubTreeSize = rootIndex - inStart\n",
    "\n",
    "        leftSubTree = self.helper(preStart + 1, inStart, leftSubTreeSize)  \n",
    "        rightSubTree = self.helper(preStart + leftSubTreeSize + 1, rootIndex + 1, size - leftSubTreeSize - 1)\n",
    "\n",
    "        return TreeNode(root_val, leftSubTree, rightSubTree)\n"
   ]
  },
  {
   "cell_type": "code",
   "execution_count": null,
   "metadata": {},
   "outputs": [],
   "source": []
  }
 ],
 "metadata": {
  "kernelspec": {
   "display_name": "crewai_env",
   "language": "python",
   "name": "python3"
  },
  "language_info": {
   "codemirror_mode": {
    "name": "ipython",
    "version": 3
   },
   "file_extension": ".py",
   "mimetype": "text/x-python",
   "name": "python",
   "nbconvert_exporter": "python",
   "pygments_lexer": "ipython3",
   "version": "3.12.9"
  }
 },
 "nbformat": 4,
 "nbformat_minor": 2
}
