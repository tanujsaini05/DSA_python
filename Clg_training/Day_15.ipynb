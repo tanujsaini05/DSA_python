{
 "cells": [
  {
   "cell_type": "markdown",
   "metadata": {},
   "source": [
    "A candy company, SweetHeaven, is preparing goodie bags for a kids’ event. They have \n",
    "candies of different packet sizes (each containing a specific number of candies). The company \n",
    "has an infinite supply of each packet size. \n",
    "The goal is to exactly pack the required number of candies using the fewest number of \n",
    "packets possible. If it’s impossible to achieve the exact amount, the company should indicate \n",
    "failure. \n",
    "\n",
    "Input Format \n",
    "- The first line contains an integer n, the number of available packet sizes. \n",
    "- The second line contains an integer array of packets of size n representing the number of candies in each packet size. \n",
    "- The third line contains an integer requiredCandies representing the total number of candies required for the goodie bag.\n",
    "\n",
    "Output Format \n",
    "- A single integer representing the minimum number of packets required to exactly reach the required number of candies. \n",
    "- If it is impossible to achieve the required number of candies, return -1."
   ]
  },
  {
   "cell_type": "code",
   "execution_count": null,
   "metadata": {
    "vscode": {
     "languageId": "plaintext"
    }
   },
   "outputs": [],
   "source": [
    "def "
   ]
  },
  {
   "cell_type": "markdown",
   "metadata": {},
   "source": [
    "Given a long text document (text) and a keyword/pattern (pattern), your task is to design \n",
    "an efficient algorithm to find all occurrences of the pattern in the text. \n",
    "The algorithm must be highly optimized to handle cases where: \n",
    "- The text is very large (up to 100,000 characters). \n",
    "- The pattern can be moderately sized (up to 10,000 characters). \n",
    "- The pattern may have repeating sub-patterns that could be exploited for optimization. \n",
    "\n",
    "\n",
    " Input: \n",
    "1. A string text representing the text document. \n",
    "2. A string pattern representing the keyword/pattern to be searched. \n",
    "\n",
    "\n",
    " Output: \n",
    "- A list of starting indices (0-indexed) where the pattern is found in the text. \n",
    "- If the pattern is not found, return an empty list. \n",
    "\n",
    "Additional Requirement: \n",
    "- Your algorithm should run in O(n + m) time complexity, where n is the length of the text and m is the length of the pattern. "
   ]
  },
  {
   "cell_type": "code",
   "execution_count": null,
   "metadata": {
    "vscode": {
     "languageId": "plaintext"
    }
   },
   "outputs": [],
   "source": [
    "Will start working again soon\n",
    "\n",
    "\n"
   ]
  }
 ],
 "metadata": {
  "language_info": {
   "name": "python"
  }
 },
 "nbformat": 4,
 "nbformat_minor": 2
}
