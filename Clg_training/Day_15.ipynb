{
 "cells": [
  {
   "cell_type": "markdown",
   "metadata": {},
   "source": [
    "A candy company, SweetHeaven, is preparing goodie bags for a kids’ event. They have \n",
    "candies of different packet sizes (each containing a specific number of candies). The company \n",
    "has an infinite supply of each packet size. \n",
    "The goal is to exactly pack the required number of candies using the fewest number of \n",
    "packets possible. If it’s impossible to achieve the exact amount, the company should indicate \n",
    "failure. \n",
    "\n",
    "Input Format \n",
    "- The first line contains an integer n, the number of available packet sizes. \n",
    "- The second line contains an integer array of packets of size n representing the number of candies in each packet size. \n",
    "- The third line contains an integer requiredCandies representing the total number of candies required for the goodie bag.\n",
    "\n",
    "Output Format \n",
    "- A single integer representing the minimum number of packets required to exactly reach the required number of candies. \n",
    "- If it is impossible to achieve the required number of candies, return -1."
   ]
  },
  {
   "cell_type": "code",
   "execution_count": null,
   "metadata": {
    "vscode": {
     "languageId": "plaintext"
    }
   },
   "outputs": [],
   "source": [
    "def "
   ]
  },
  {
   "cell_type": "markdown",
   "metadata": {},
   "source": [
    "Given a long text document (text) and a keyword/pattern (pattern), your task is to design \n",
    "an efficient algorithm to find all occurrences of the pattern in the text. \n",
    "The algorithm must be highly optimized to handle cases where: \n",
    "- The text is very large (up to 100,000 characters). \n",
    "- The pattern can be moderately sized (up to 10,000 characters). \n",
    "- The pattern may have repeating sub-patterns that could be exploited for optimization. \n",
    "\n",
    "\n",
    " Input: \n",
    "1. A string text representing the text document. \n",
    "2. A string pattern representing the keyword/pattern to be searched. \n",
    "\n",
    "\n",
    " Output: \n",
    "- A list of starting indices (0-indexed) where the pattern is found in the text. \n",
    "- If the pattern is not found, return an empty list. \n",
    "\n",
    "Additional Requirement: \n",
    "- Your algorithm should run in O(n + m) time complexity, where n is the length of the text and m is the length of the pattern. "
   ]
  },
  {
   "cell_type": "code",
   "execution_count": null,
   "metadata": {
    "vscode": {
     "languageId": "plaintext"
    }
   },
   "outputs": [],
   "source": [
    "Will start working again soon\n",
    "\n",
    "\n",
    "\n",
    "\n"
   ]
  },
  {
   "cell_type": "code",
   "execution_count": null,
   "metadata": {
    "vscode": {
     "languageId": "plaintext"
    }
   },
   "outputs": [],
   "source": [
    "from collections import Counter\n",
    "from extratypes import Results  # library with types used in the task\n",
    "\n",
    "def rank_value(rank):\n",
    "    rank_order = {'2': 2, '3': 3, '4': 4, '5': 5, '6': 6, '7': 7, '8': 8, '9': 9, '10': 10,\n",
    "                  'J': 11, 'Q': 12, 'K': 13, 'A': 14}\n",
    "    return rank_order[rank]\n",
    "\n",
    "def solution(cards):\n",
    "    rank_map = Counter()\n",
    "    suit_map = Counter()\n",
    "    rank_to_cards = {}\n",
    "    suit_to_cards = {}\n",
    "    \n",
    "    for card in cards:\n",
    "        rank, suit = card[:-1], card[-1]\n",
    "        rank_map[rank] += 1\n",
    "        suit_map[suit] += 1\n",
    "        rank_to_cards.setdefault(rank, []).append(card)\n",
    "        suit_to_cards.setdefault(suit, []).append(card)\n",
    "    \n",
    "    # Check for \"a triple and a pair\"\n",
    "    triple, pair = None, None\n",
    "    for rank, count in sorted(rank_map.items(), key=lambda x: (-rank_value(x[0]), x[0])):\n",
    "        if count >= 3 and not triple:\n",
    "            triple = rank\n",
    "        elif count >= 2 and not pair:\n",
    "            pair = rank\n",
    "    \n",
    "    if triple and pair:\n",
    "        return Results(\"a triple and a pair\", rank_to_cards[triple][:3] + rank_to_cards[pair][:2])\n",
    "    \n",
    "    # Check for \"suit\"\n",
    "    for suit, count in sorted(suit_map.items(), key=lambda x: (-\"SHDC\".index(x[0]), x[0])):\n",
    "        if count >= 5:\n",
    "            return Results(\"suit\", suit_to_cards[suit][:5])\n",
    "    \n",
    "    # Check for \"five in a row\"\n",
    "    sorted_ranks = sorted(rank_map.keys(), key=rank_value, reverse=True)\n",
    "    for i in range(len(sorted_ranks) - 4):\n",
    "        if all(rank_value(sorted_ranks[i + j]) - rank_value(sorted_ranks[i + j + 1]) == 1 for j in range(4)):\n",
    "            return Results(\"five in a row\", [rank_to_cards[sorted_ranks[i + j]][0] for j in range(5)])\n",
    "    \n",
    "    # Check for \"triple\"\n",
    "    for rank, count in sorted(rank_map.items(), key=lambda x: (-rank_value(x[0]), x[0])):\n",
    "        if count >= 3:\n",
    "            return Results(\"triple\", rank_to_cards[rank][:3])\n",
    "    \n",
    "    # Check for \"pair\"\n",
    "    for rank, count in sorted(rank_map.items(), key=lambda x: (-rank_value(x[0]), x[0])):\n",
    "        if count >= 2:\n",
    "            return Results(\"pair\", rank_to_cards[rank][:2])\n",
    "    \n",
    "    # Default to \"single card\"\n",
    "    highest_card = max(cards, key=lambda card: rank_value(card[:-1]))\n",
    "    return Results(\"single card\", [highest_card])"
   ]
  }
 ],
 "metadata": {
  "language_info": {
   "name": "python"
  }
 },
 "nbformat": 4,
 "nbformat_minor": 2
}
