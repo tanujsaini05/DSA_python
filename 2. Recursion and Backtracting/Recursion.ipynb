{
 "cells": [
  {
   "cell_type": "code",
   "execution_count": 1,
   "metadata": {},
   "outputs": [
    {
     "name": "stdout",
     "output_type": "stream",
     "text": [
      "Hello, DSA!\n"
     ]
    }
   ],
   "source": [
    "print('Hello, DSA!')"
   ]
  },
  {
   "cell_type": "markdown",
   "metadata": {},
   "source": [
    "# Example\tAlgorithms\tof\tRecursion\n"
   ]
  },
  {
   "cell_type": "markdown",
   "metadata": {},
   "source": [
    "##### • Fibonacci\tSeries,\tFactorial\tFinding"
   ]
  },
  {
   "cell_type": "markdown",
   "metadata": {},
   "source": [
    "##### • Merge\tSort,\tQuick\tSort"
   ]
  },
  {
   "cell_type": "markdown",
   "metadata": {},
   "source": [
    "##### • Binary\tSearch"
   ]
  },
  {
   "cell_type": "markdown",
   "metadata": {},
   "source": [
    "##### • Tree\tTraversals\tand\tmany\tTree\tProblems:\tInOrder,\tPreOrder\tPostOrder"
   ]
  },
  {
   "cell_type": "markdown",
   "metadata": {},
   "source": [
    "##### • Graph\tTraversals:\tDFS\t[Depth\tFirst\tSearch]\tand\tBFS\t[Breadth\tFirst\tSearch]"
   ]
  },
  {
   "cell_type": "markdown",
   "metadata": {},
   "source": [
    "##### Dynamic\tProgramming\tExamples"
   ]
  },
  {
   "cell_type": "markdown",
   "metadata": {},
   "source": [
    "##### • Divide\tand\tConquer\tAlgorithms"
   ]
  },
  {
   "cell_type": "markdown",
   "metadata": {},
   "source": [
    "##### • Towers\tof\tHanoi"
   ]
  },
  {
   "cell_type": "markdown",
   "metadata": {},
   "source": [
    "#### Backtracking Algorithms (Cover in next chapter)"
   ]
  },
  {
   "cell_type": "code",
   "execution_count": 7,
   "metadata": {},
   "outputs": [
    {
     "name": "stdout",
     "output_type": "stream",
     "text": [
      "34\n"
     ]
    }
   ],
   "source": [
    "# let's do fibaonacci series first every problem i solve here you will get the leetcode link for it here\n",
    "\n",
    "#link below \n",
    "## https://leetcode.com/problems/fibonacci-number/\n",
    "\n",
    "\n",
    "def fibonacci(n):\n",
    "    if n < 0:\n",
    "        return \"Input should be positive integer.\"\n",
    "    elif n == 0:\n",
    "        return 0\n",
    "    elif n == 1 or n == 2:\n",
    "        return 1\n",
    "    else:\n",
    "        return fibonacci(n-1) + fibonacci(n-2)\n",
    "    \n",
    "a=int(input(\"Please enter a number :: \"))\n",
    "print(fibonacci(a))"
   ]
  },
  {
   "cell_type": "code",
   "execution_count": 1,
   "metadata": {},
   "outputs": [
    {
     "name": "stdout",
     "output_type": "stream",
     "text": [
      "Move Disk  1  from rod A  to rod  B\n",
      "Move Disk  2  from rod A  to rod  C\n",
      "Move Disk  1  from rod B  to rod  C\n",
      "Move Disk  3  from rod A  to rod  B\n",
      "Move Disk  1  from rod C  to rod  A\n",
      "Move Disk  2  from rod C  to rod  B\n",
      "Move Disk  1  from rod A  to rod  B\n"
     ]
    }
   ],
   "source": [
    "# tower of Hanoi\n",
    "\n",
    "def towerofhanoi(n,from_,to_,inter_):\n",
    "    if n == 0:\n",
    "        return\n",
    "    towerofhanoi(n-1,from_,inter_,to_)\n",
    "\n",
    "    print(\"Move Disk \",n,\" from rod\",from_,\" to rod \", to_)\n",
    "    \n",
    "    towerofhanoi(n-1,inter_,to_,from_)\n",
    "\n",
    "\n",
    "towerofhanoi(3,\"A\",\"B\",\"C\")"
   ]
  },
  {
   "cell_type": "code",
   "execution_count": null,
   "metadata": {},
   "outputs": [],
   "source": []
  }
 ],
 "metadata": {
  "kernelspec": {
   "display_name": "Python 3",
   "language": "python",
   "name": "python3"
  },
  "language_info": {
   "codemirror_mode": {
    "name": "ipython",
    "version": 3
   },
   "file_extension": ".py",
   "mimetype": "text/x-python",
   "name": "python",
   "nbconvert_exporter": "python",
   "pygments_lexer": "ipython3",
   "version": "3.12.1"
  }
 },
 "nbformat": 4,
 "nbformat_minor": 2
}
