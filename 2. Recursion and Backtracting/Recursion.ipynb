{
 "cells": [
  {
   "cell_type": "code",
   "execution_count": 1,
   "metadata": {},
   "outputs": [
    {
     "name": "stdout",
     "output_type": "stream",
     "text": [
      "Hello, DSA!\n"
     ]
    }
   ],
   "source": [
    "print('Hello, DSA!')"
   ]
  },
  {
   "cell_type": "markdown",
   "metadata": {},
   "source": [
    "# Example\tAlgorithms\tof\tRecursion\n"
   ]
  },
  {
   "cell_type": "markdown",
   "metadata": {},
   "source": [
    "##### • Fibonacci\tSeries,\tFactorial\tFinding"
   ]
  },
  {
   "cell_type": "markdown",
   "metadata": {},
   "source": [
    "##### • Merge\tSort,\tQuick\tSort"
   ]
  },
  {
   "cell_type": "markdown",
   "metadata": {},
   "source": [
    "##### • Binary\tSearch"
   ]
  },
  {
   "cell_type": "markdown",
   "metadata": {},
   "source": [
    "##### • Tree\tTraversals\tand\tmany\tTree\tProblems:\tInOrder,\tPreOrder\tPostOrder"
   ]
  },
  {
   "cell_type": "markdown",
   "metadata": {},
   "source": [
    "##### • Graph\tTraversals:\tDFS\t[Depth\tFirst\tSearch]\tand\tBFS\t[Breadth\tFirst\tSearch]"
   ]
  },
  {
   "cell_type": "markdown",
   "metadata": {},
   "source": [
    "##### Dynamic\tProgramming\tExamples"
   ]
  },
  {
   "cell_type": "markdown",
   "metadata": {},
   "source": [
    "##### • Divide\tand\tConquer\tAlgorithms"
   ]
  },
  {
   "cell_type": "markdown",
   "metadata": {},
   "source": [
    "##### • Towers\tof\tHanoi"
   ]
  },
  {
   "cell_type": "markdown",
   "metadata": {},
   "source": [
    "#### Backtracking Algorithms (Cover in next chapter)"
   ]
  },
  {
   "cell_type": "code",
   "execution_count": 7,
   "metadata": {},
   "outputs": [
    {
     "name": "stdout",
     "output_type": "stream",
     "text": [
      "34\n"
     ]
    }
   ],
   "source": [
    "# let's do fibaonacci series first every problem i solve here you will get the leetcode link for it here\n",
    "\n",
    "#link below \n",
    "## https://leetcode.com/problems/fibonacci-number/\n",
    "\n",
    "\n",
    "def fibonacci(n):\n",
    "    if n < 0:\n",
    "        return \"Input should be positive integer.\"\n",
    "    elif n == 0:\n",
    "        return 0\n",
    "    elif n == 1 or n == 2:\n",
    "        return 1\n",
    "    else:\n",
    "        return fibonacci(n-1) + fibonacci(n-2)\n",
    "    \n",
    "a=int(input(\"Please enter a number :: \"))\n",
    "print(fibonacci(a))"
   ]
  },
  {
   "cell_type": "code",
   "execution_count": 1,
   "metadata": {},
   "outputs": [
    {
     "name": "stdout",
     "output_type": "stream",
     "text": [
      "Move Disk  1  from rod A  to rod  B\n",
      "Move Disk  2  from rod A  to rod  C\n",
      "Move Disk  1  from rod B  to rod  C\n",
      "Move Disk  3  from rod A  to rod  B\n",
      "Move Disk  1  from rod C  to rod  A\n",
      "Move Disk  2  from rod C  to rod  B\n",
      "Move Disk  1  from rod A  to rod  B\n"
     ]
    }
   ],
   "source": [
    "# tower of Hanoi\n",
    "\n",
    "def towerofhanoi(n,from_,to_,inter_):\n",
    "    if n == 0:\n",
    "        return\n",
    "    towerofhanoi(n-1,from_,inter_,to_)\n",
    "\n",
    "    print(\"Move Disk \",n,\" from rod\",from_,\" to rod \", to_)\n",
    "    \n",
    "    towerofhanoi(n-1,inter_,to_,from_)\n",
    "\n",
    "\n",
    "towerofhanoi(3,\"A\",\"B\",\"C\")"
   ]
  },
  {
   "cell_type": "code",
   "execution_count": 1,
   "metadata": {},
   "outputs": [
    {
     "name": "stdout",
     "output_type": "stream",
     "text": [
      "Array is sorted\n"
     ]
    }
   ],
   "source": [
    "# check if array is sorted using recursion\n",
    "def is_sorted(arr,n):\n",
    "    if n==1:\n",
    "        return True\n",
    "    if arr[n-1] < arr[n-2]:\n",
    "        is_sorted(arr,n-1)\n",
    "    return \"Array is sorted\"\n",
    "# test the function\n",
    "\n",
    "print(is_sorted([1,2,3,4,5,6],6))"
   ]
  },
  {
   "cell_type": "code",
   "execution_count": 3,
   "metadata": {},
   "outputs": [
    {
     "data": {
      "text/plain": [
       "16"
      ]
     },
     "execution_count": 3,
     "metadata": {},
     "output_type": "execute_result"
    }
   ],
   "source": [
    "1 << 4"
   ]
  },
  {
   "cell_type": "code",
   "execution_count": 5,
   "metadata": {},
   "outputs": [
    {
     "name": "stdout",
     "output_type": "stream",
     "text": [
      "000\n",
      "001\n",
      "010\n",
      "011\n",
      "100\n",
      "101\n",
      "110\n",
      "111\n"
     ]
    }
   ],
   "source": [
    "def generate(n):\n",
    "    for i in range(1<<n):\n",
    "        bin= format(i , \"0\" + str(n) + \"b\")\n",
    "        print(bin)\n",
    "    \n",
    "generate(3)"
   ]
  },
  {
   "cell_type": "code",
   "execution_count": null,
   "metadata": {},
   "outputs": [],
   "source": [
    "# def generate(n , k):\n",
    "#     for i in range(1<<k**n):\n",
    "#         bin= format(i , \"0\" + str(n) + \"b\")\n",
    "#         print(bin)\n",
    "    \n",
    "generate(3,3)"
   ]
  },
  {
   "cell_type": "code",
   "execution_count": 1,
   "metadata": {},
   "outputs": [
    {
     "data": {
      "text/plain": [
       "1.0"
      ]
     },
     "execution_count": 1,
     "metadata": {},
     "output_type": "execute_result"
    }
   ],
   "source": [
    "4//3.0"
   ]
  },
  {
   "cell_type": "code",
   "execution_count": 1,
   "metadata": {},
   "outputs": [
    {
     "data": {
      "text/plain": [
       "0"
      ]
     },
     "execution_count": 1,
     "metadata": {},
     "output_type": "execute_result"
    }
   ],
   "source": [
    "3//20"
   ]
  },
  {
   "cell_type": "code",
   "execution_count": null,
   "metadata": {},
   "outputs": [],
   "source": []
  }
 ],
 "metadata": {
  "kernelspec": {
   "display_name": "Python 3",
   "language": "python",
   "name": "python3"
  },
  "language_info": {
   "codemirror_mode": {
    "name": "ipython",
    "version": 3
   },
   "file_extension": ".py",
   "mimetype": "text/x-python",
   "name": "python",
   "nbconvert_exporter": "python",
   "pygments_lexer": "ipython3",
   "version": "3.12.1"
  }
 },
 "nbformat": 4,
 "nbformat_minor": 2
}
