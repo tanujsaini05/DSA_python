{
 "cells": [
  {
   "cell_type": "code",
   "execution_count": 3,
   "id": "d7b7d422",
   "metadata": {},
   "outputs": [],
   "source": [
    "def int_to_roman(n):\n",
    "    li = [\n",
    "        (1000,\"M\"),\n",
    "        (900, 'CM'),\n",
    "        (500, 'D'),\n",
    "        (400, 'CD'),\n",
    "        (100, 'C'),\n",
    "        (90, 'XC'),\n",
    "        (50, 'L'),\n",
    "        (40, 'XL'),\n",
    "        (10, 'X'),\n",
    "        (9, 'IX'),\n",
    "        (5, 'V'),\n",
    "        (4, 'IV'),\n",
    "        (1, 'I')\n",
    "    ]\n",
    "\n",
    "    res = []\n",
    "    for value,sym in li:\n",
    "        while n >= value:\n",
    "            n -= value\n",
    "            res.append(sym)\n",
    "        if n == 0:\n",
    "            break\n",
    "    return ''.join(res)\n"
   ]
  },
  {
   "cell_type": "code",
   "execution_count": 4,
   "id": "1ad362c5",
   "metadata": {},
   "outputs": [
    {
     "data": {
      "text/plain": [
       "'MCMXCIV'"
      ]
     },
     "execution_count": 4,
     "metadata": {},
     "output_type": "execute_result"
    }
   ],
   "source": [
    "int_to_roman(1994)"
   ]
  },
  {
   "cell_type": "code",
   "execution_count": 2,
   "id": "445949ef",
   "metadata": {},
   "outputs": [],
   "source": [
    "## leetcode 58\n",
    "\n",
    "def lengthOfLastWord(s):\n",
    "        s=s.strip()\n",
    "        x =s.split(\" \")\n",
    "        return len(x[-1])"
   ]
  },
  {
   "cell_type": "code",
   "execution_count": 5,
   "id": "7f563e09",
   "metadata": {},
   "outputs": [
    {
     "data": {
      "text/plain": [
       "9"
      ]
     },
     "execution_count": 5,
     "metadata": {},
     "output_type": "execute_result"
    }
   ],
   "source": [
    "lengthOfLastWord(\"i am sainisabh\")"
   ]
  },
  {
   "cell_type": "code",
   "execution_count": null,
   "id": "82a84324",
   "metadata": {},
   "outputs": [],
   "source": [
    "##   274 H-index\n",
    "\n",
    "def h_index(cit):\n",
    "    cit.sort(reverse=True)\n",
    "    for i in range(len(cit)):\n",
    "        if i>= cit[i]:\n",
    "            return i\n",
    "    return len(cit)\n",
    "\n"
   ]
  },
  {
   "cell_type": "code",
   "execution_count": 8,
   "id": "db9aa707",
   "metadata": {},
   "outputs": [
    {
     "data": {
      "text/plain": [
       "3"
      ]
     },
     "execution_count": 8,
     "metadata": {},
     "output_type": "execute_result"
    }
   ],
   "source": [
    "h_index([3,6,5])"
   ]
  },
  {
   "cell_type": "code",
   "execution_count": 9,
   "id": "ef7a7ed3",
   "metadata": {},
   "outputs": [
    {
     "data": {
      "text/plain": [
       "-9"
      ]
     },
     "execution_count": 9,
     "metadata": {},
     "output_type": "execute_result"
    }
   ],
   "source": [
    "3*-3"
   ]
  },
  {
   "cell_type": "code",
   "execution_count": 15,
   "id": "19898473",
   "metadata": {},
   "outputs": [],
   "source": [
    "def product(nums):\n",
    "    result  = []\n",
    "    \n",
    "    for i in nums:\n",
    "        p =1\n",
    "        for j in nums:\n",
    "            if i == j:\n",
    "                continue\n",
    "            p *= j\n",
    "        result.append(p)\n",
    "    return result\n"
   ]
  },
  {
   "cell_type": "code",
   "execution_count": 16,
   "id": "50c1d4fd",
   "metadata": {},
   "outputs": [
    {
     "data": {
      "text/plain": [
       "[24, 12, 8, 6]"
      ]
     },
     "execution_count": 16,
     "metadata": {},
     "output_type": "execute_result"
    }
   ],
   "source": [
    "product([1,2,3,4]) # 24\n"
   ]
  },
  {
   "cell_type": "code",
   "execution_count": 21,
   "id": "fa86da8d",
   "metadata": {},
   "outputs": [],
   "source": [
    "def t21(l,r):\n",
    "    result = []\n",
    "    for i in range(len(l)):\n",
    "        result.append(l[i]*r[i])\n",
    "    return result\n"
   ]
  },
  {
   "cell_type": "code",
   "execution_count": 26,
   "id": "8a453934",
   "metadata": {},
   "outputs": [],
   "source": [
    "def product(nums):\n",
    "    result = [1]* len(nums)\n",
    "    p = 1\n",
    "    for i in range(len(nums)):\n",
    "        result[i] = p\n",
    "        p *= nums[i]\n",
    "    p2 = 1\n",
    "    for i in range(len(nums)-1,-1,-1):\n",
    "        result[i] *= p2\n",
    "        p2 *= nums[i]\n",
    "    return result\n",
    "    \n",
    "\n",
    "\n"
   ]
  },
  {
   "cell_type": "code",
   "execution_count": 28,
   "id": "fb0a5ec6",
   "metadata": {},
   "outputs": [
    {
     "data": {
      "text/plain": [
       "[0, 0, 9, 0, 0]"
      ]
     },
     "execution_count": 28,
     "metadata": {},
     "output_type": "execute_result"
    }
   ],
   "source": [
    "product([-1,1,0,-3,3]) # 24"
   ]
  },
  {
   "cell_type": "code",
   "execution_count": 1,
   "id": "23b65f0b",
   "metadata": {},
   "outputs": [],
   "source": [
    "def inSeq(s,t):\n",
    "    i =0\n",
    "    j=0\n",
    "    while i<len(s) and j<len(t):\n",
    "        if s[i] == t[j]:\n",
    "            i+=1\n",
    "        j+=1\n",
    "    return i== len(s)"
   ]
  },
  {
   "cell_type": "code",
   "execution_count": 2,
   "id": "b0f6f80f",
   "metadata": {},
   "outputs": [
    {
     "data": {
      "text/plain": [
       "True"
      ]
     },
     "execution_count": 2,
     "metadata": {},
     "output_type": "execute_result"
    }
   ],
   "source": [
    "inSeq(\"abc\",\"ahbgdc\")"
   ]
  },
  {
   "cell_type": "code",
   "execution_count": null,
   "id": "5806fb75",
   "metadata": {},
   "outputs": [],
   "source": []
  },
  {
   "cell_type": "code",
   "execution_count": null,
   "id": "ad7ceec5",
   "metadata": {},
   "outputs": [],
   "source": []
  }
 ],
 "metadata": {
  "kernelspec": {
   "display_name": "gem_learn",
   "language": "python",
   "name": "python3"
  },
  "language_info": {
   "codemirror_mode": {
    "name": "ipython",
    "version": 3
   },
   "file_extension": ".py",
   "mimetype": "text/x-python",
   "name": "python",
   "nbconvert_exporter": "python",
   "pygments_lexer": "ipython3",
   "version": "3.10.16"
  }
 },
 "nbformat": 4,
 "nbformat_minor": 5
}
