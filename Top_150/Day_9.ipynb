{
 "cells": [
  {
   "cell_type": "markdown",
   "id": "e18f665d",
   "metadata": {},
   "source": [
    "Given an array of integers nums which is sorted in ascending order, and an integer target, write a function to search target in nums. If target exists, then return its index. Otherwise, return -1.\n",
    "\n",
    "You must write an algorithm with O(log n) runtime complexity."
   ]
  },
  {
   "cell_type": "code",
   "execution_count": 19,
   "id": "329dbc96",
   "metadata": {},
   "outputs": [],
   "source": [
    "def search(arr,target):\n",
    "    start = 0\n",
    "    end = len(arr)-1\n",
    "    while start<=end:\n",
    "        mid  = start+(end-start)//2\n",
    "        \n",
    "        if arr[mid] == target:\n",
    "            return mid\n",
    "        else:\n",
    "            if target> arr[mid]:\n",
    "                start = mid+1\n",
    "            else:\n",
    "                end = mid-1\n",
    "    return -1"
   ]
  },
  {
   "cell_type": "code",
   "execution_count": 20,
   "id": "acde6159",
   "metadata": {},
   "outputs": [
    {
     "data": {
      "text/plain": [
       "4"
      ]
     },
     "execution_count": 20,
     "metadata": {},
     "output_type": "execute_result"
    }
   ],
   "source": [
    "search([10,12,16,20,22],22)"
   ]
  },
  {
   "cell_type": "code",
   "execution_count": 26,
   "id": "be63effe",
   "metadata": {},
   "outputs": [],
   "source": [
    "def searchinsert(arr,target):\n",
    "    start = 0\n",
    "    end = len(arr)-1\n",
    "\n",
    "    while start<=end:\n",
    "        mid  = start+(end-start)//2\n",
    "        \n",
    "        if arr[mid] == target:\n",
    "            return mid\n",
    "        else:\n",
    "            if target> arr[mid]:\n",
    "                start = mid+1\n",
    "            else:\n",
    "                end = mid-1\n",
    "    return start"
   ]
  },
  {
   "cell_type": "code",
   "execution_count": 27,
   "id": "9f1bf8ac",
   "metadata": {},
   "outputs": [
    {
     "data": {
      "text/plain": [
       "2"
      ]
     },
     "execution_count": 27,
     "metadata": {},
     "output_type": "execute_result"
    }
   ],
   "source": [
    "searchinsert([1,3,5,6],5)"
   ]
  },
  {
   "cell_type": "code",
   "execution_count": null,
   "id": "4241379b",
   "metadata": {},
   "outputs": [],
   "source": [
    "def searchR(arr,target):\n",
    "    def positions(arr,target,left_istrue = False):\n",
    "        start = 0\n",
    "        end = len(arr)-1\n",
    "        idx =-1\n",
    "        while end >= start:\n",
    "            mid = start+(end-start)//2\n",
    "            if arr[mid] == target:\n",
    "                idx  = mid\n",
    "                end = mid-1\n",
    "            elif arr[mid] < target:\n",
    "                left = start+1\n",
    "            else:\n",
    "                idx  = mid \n",
    "                if left_istrue:\n",
    "                    end = mid-1\n",
    "                else:\n",
    "                    start = mid+1\n",
    "        return idx\n",
    "    left = positions(arr,target,True)\n",
    "    right = positions(arr,target)\n",
    "    return [left,right]\n"
   ]
  },
  {
   "cell_type": "code",
   "execution_count": 3,
   "id": "834ce559",
   "metadata": {},
   "outputs": [
    {
     "data": {
      "text/plain": [
       "[-1, -1]"
      ]
     },
     "execution_count": 3,
     "metadata": {},
     "output_type": "execute_result"
    }
   ],
   "source": [
    "searchR([12,34,45,46,46,46,67,78],46)"
   ]
  },
  {
   "cell_type": "code",
   "execution_count": null,
   "id": "79a27847",
   "metadata": {},
   "outputs": [],
   "source": []
  },
  {
   "cell_type": "code",
   "execution_count": null,
   "id": "a039a2e8",
   "metadata": {},
   "outputs": [],
   "source": []
  },
  {
   "cell_type": "code",
   "execution_count": null,
   "id": "3b0c38b9",
   "metadata": {},
   "outputs": [],
   "source": []
  }
 ],
 "metadata": {
  "kernelspec": {
   "display_name": "gem_learn",
   "language": "python",
   "name": "python3"
  },
  "language_info": {
   "codemirror_mode": {
    "name": "ipython",
    "version": 3
   },
   "file_extension": ".py",
   "mimetype": "text/x-python",
   "name": "python",
   "nbconvert_exporter": "python",
   "pygments_lexer": "ipython3",
   "version": "3.10.16"
  }
 },
 "nbformat": 4,
 "nbformat_minor": 5
}
