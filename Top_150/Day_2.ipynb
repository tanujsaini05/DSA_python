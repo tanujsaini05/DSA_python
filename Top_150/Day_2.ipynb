{
 "cells": [
  {
   "cell_type": "code",
   "execution_count": 2,
   "id": "67b7dbec",
   "metadata": {},
   "outputs": [
    {
     "name": "stdout",
     "output_type": "stream",
     "text": [
      "3\n",
      "4\n",
      "9\n",
      "58\n",
      "1994\n"
     ]
    }
   ],
   "source": [
    "def roman_to_integer(s):\n",
    "    n= 0\n",
    "    prev = 0\n",
    "    roman = {\n",
    "        'I': 1,\n",
    "        'V': 5,\n",
    "        \"X\": 10,\n",
    "        'L': 50,\n",
    "        'C': 100,\n",
    "        'D': 500,\n",
    "        'M': 1000,\n",
    "    }\n",
    "    for i in s:\n",
    "        curr_ = roman[i]\n",
    "        if prev< curr_:\n",
    "            n += curr_ - 2*prev\n",
    "        else:\n",
    "            n+= curr_\n",
    "        prev = curr_\n",
    "    return n\n",
    "print(roman_to_integer(\"III\")) # 3\n",
    "print(roman_to_integer(\"IV\")) # 4\n",
    "print(roman_to_integer(\"IX\")) # 9\n",
    "print(roman_to_integer(\"LVIII\")) # 58\n",
    "print(roman_to_integer(\"MCMXCIV\")) # 1994"
   ]
  },
  {
   "cell_type": "code",
   "execution_count": null,
   "id": "b7cab495",
   "metadata": {},
   "outputs": [],
   "source": []
  }
 ],
 "metadata": {
  "kernelspec": {
   "display_name": "gem_learn",
   "language": "python",
   "name": "python3"
  },
  "language_info": {
   "codemirror_mode": {
    "name": "ipython",
    "version": 3
   },
   "file_extension": ".py",
   "mimetype": "text/x-python",
   "name": "python",
   "nbconvert_exporter": "python",
   "pygments_lexer": "ipython3",
   "version": "3.10.16"
  }
 },
 "nbformat": 4,
 "nbformat_minor": 5
}
