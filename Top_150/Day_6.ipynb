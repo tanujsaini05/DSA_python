{
 "cells": [
  {
   "cell_type": "code",
   "execution_count": 8,
   "id": "a4f151ca",
   "metadata": {},
   "outputs": [],
   "source": [
    "def word_p(p,s):\n",
    "    words= s.split()\n",
    "    if len(p) != len(s.split()):\n",
    "        return False\n",
    "    char = {}\n",
    "    used_words = set()\n",
    "    for char_,word in zip(p,words):\n",
    "        if char_ in char:\n",
    "            if char[char_] != word:\n",
    "                return False\n",
    "        else:\n",
    "            if word in used_words:\n",
    "                return False\n",
    "            char[char_] = word\n",
    "            used_words.add(word)\n",
    "    return True\n",
    "\n",
    "    \n"
   ]
  },
  {
   "cell_type": "code",
   "execution_count": 9,
   "id": "066f5dd0",
   "metadata": {},
   "outputs": [
    {
     "data": {
      "text/plain": [
       "True"
      ]
     },
     "execution_count": 9,
     "metadata": {},
     "output_type": "execute_result"
    }
   ],
   "source": [
    "a = \"abba\"\n",
    "b = \"dog cat cat dog\"\n",
    "\n",
    "word_p(a, b)"
   ]
  },
  {
   "cell_type": "code",
   "execution_count": 6,
   "id": "4fa8c8f1",
   "metadata": {},
   "outputs": [],
   "source": [
    "def happynmber(n):\n",
    "    check = set()\n",
    "    while n!= 1:\n",
    "        if n in check:\n",
    "            return False\n",
    "        check.add(n)\n",
    "        total = 0\n",
    "        while n>0:\n",
    "            digit = n%10\n",
    "            total += (digit*digit)\n",
    "            n//=10\n",
    "        n = total\n",
    "\n",
    "    return True"
   ]
  },
  {
   "cell_type": "code",
   "execution_count": 8,
   "id": "0a6d936d",
   "metadata": {},
   "outputs": [
    {
     "data": {
      "text/plain": [
       "False"
      ]
     },
     "execution_count": 8,
     "metadata": {},
     "output_type": "execute_result"
    }
   ],
   "source": [
    "happynmber(2)"
   ]
  },
  {
   "cell_type": "code",
   "execution_count": 16,
   "id": "90e7a836",
   "metadata": {},
   "outputs": [],
   "source": [
    "def contians_dup(nums,k):\n",
    "    seen = {}\n",
    "    for i,n in enumerate(nums):\n",
    "        if n in seen and i-seen[n] <= k:\n",
    "            return True\n",
    "        seen[n] = i\n",
    "    return False"
   ]
  },
  {
   "cell_type": "code",
   "execution_count": 17,
   "id": "50d604d8",
   "metadata": {},
   "outputs": [
    {
     "data": {
      "text/plain": [
       "True"
      ]
     },
     "execution_count": 17,
     "metadata": {},
     "output_type": "execute_result"
    }
   ],
   "source": [
    "contians_dup([1,2,3,1],3)"
   ]
  },
  {
   "cell_type": "code",
   "execution_count": 18,
   "id": "fb4e479a",
   "metadata": {},
   "outputs": [],
   "source": [
    "def longest_cons(nums):\n",
    "    a = set(nums)\n",
    "    longest = 0          #   cu = current\n",
    "    #ums.sort()\n",
    "    for i in a:\n",
    "        if i-1 not in a:\n",
    "            cu_n = i\n",
    "            cu_l = 1\n",
    "\n",
    "            while cu_n+1 in a:\n",
    "                cu_n += 1\n",
    "                cu_l += 1\n",
    "\n",
    "            longest  = max(longest,cu_l)\n",
    "    return longest\n"
   ]
  },
  {
   "cell_type": "code",
   "execution_count": 21,
   "id": "3878453d",
   "metadata": {},
   "outputs": [
    {
     "data": {
      "text/plain": [
       "3"
      ]
     },
     "execution_count": 21,
     "metadata": {},
     "output_type": "execute_result"
    }
   ],
   "source": [
    "longest_cons([1,7,6,3,2])"
   ]
  },
  {
   "cell_type": "code",
   "execution_count": null,
   "id": "0b3d1fa4",
   "metadata": {},
   "outputs": [],
   "source": []
  }
 ],
 "metadata": {
  "kernelspec": {
   "display_name": "gem_learn",
   "language": "python",
   "name": "python3"
  },
  "language_info": {
   "codemirror_mode": {
    "name": "ipython",
    "version": 3
   },
   "file_extension": ".py",
   "mimetype": "text/x-python",
   "name": "python",
   "nbconvert_exporter": "python",
   "pygments_lexer": "ipython3",
   "version": "3.10.16"
  }
 },
 "nbformat": 4,
 "nbformat_minor": 5
}
