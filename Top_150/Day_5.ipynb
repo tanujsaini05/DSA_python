{
 "cells": [
  {
   "cell_type": "code",
   "execution_count": 5,
   "id": "4aff3087",
   "metadata": {},
   "outputs": [],
   "source": [
    "def three_sum(nums):\n",
    "    if len(nums) <3:\n",
    "        return []\n",
    "    res = set()\n",
    "    nums.sort()\n",
    "    for i in range(len(nums)-2):\n",
    "        left  = i+1\n",
    "        right  =len(nums)-1\n",
    "        while left<right:\n",
    "            total = nums[i]+nums[left]+nums[right]\n",
    "\n",
    "            if total == 0:\n",
    "                res.add((nums[i],nums[left],nums[right]))\n",
    "                left +=1\n",
    "                right -=1\n",
    "            elif total > 0:\n",
    "                right -= 1\n",
    "            else:\n",
    "                left +=1\n",
    "    return [list(i) for i in res]\n"
   ]
  },
  {
   "cell_type": "code",
   "execution_count": 6,
   "id": "bc67e529",
   "metadata": {},
   "outputs": [
    {
     "data": {
      "text/plain": [
       "[[-1, 0, 1], [-1, -1, 2]]"
      ]
     },
     "execution_count": 6,
     "metadata": {},
     "output_type": "execute_result"
    }
   ],
   "source": [
    "three_sum([-1,0,1,2,-1,-4])"
   ]
  },
  {
   "cell_type": "code",
   "execution_count": null,
   "id": "24487914",
   "metadata": {},
   "outputs": [],
   "source": []
  },
  {
   "cell_type": "code",
   "execution_count": null,
   "id": "4d149f39",
   "metadata": {},
   "outputs": [],
   "source": []
  }
 ],
 "metadata": {
  "kernelspec": {
   "display_name": "gem_learn",
   "language": "python",
   "name": "python3"
  },
  "language_info": {
   "codemirror_mode": {
    "name": "ipython",
    "version": 3
   },
   "file_extension": ".py",
   "mimetype": "text/x-python",
   "name": "python",
   "nbconvert_exporter": "python",
   "pygments_lexer": "ipython3",
   "version": "3.10.16"
  }
 },
 "nbformat": 4,
 "nbformat_minor": 5
}
