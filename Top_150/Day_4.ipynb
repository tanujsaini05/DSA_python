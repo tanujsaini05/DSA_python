{
 "cells": [
  {
   "cell_type": "code",
   "execution_count": 1,
   "id": "67d8081d",
   "metadata": {},
   "outputs": [],
   "source": [
    "def max_Area(arr):\n",
    "    left = 0\n",
    "    right = len(arr)-1\n",
    "    max_area = 0\n",
    "\n",
    "    while left < right:\n",
    "        h = min(arr[left],arr[right])\n",
    "        w = right - left\n",
    "        area =h*w \n",
    "        max_area = max(max_area,area)\n",
    "        if arr[left] < arr[right]:\n",
    "            left +=1\n",
    "        else:\n",
    "            right -=1\n",
    "    return max_area\n",
    "    \n"
   ]
  },
  {
   "cell_type": "code",
   "execution_count": 2,
   "id": "6cfe9aee",
   "metadata": {},
   "outputs": [
    {
     "data": {
      "text/plain": [
       "49"
      ]
     },
     "execution_count": 2,
     "metadata": {},
     "output_type": "execute_result"
    }
   ],
   "source": [
    "arr= [1,8,6,2,5,4,8,3,7]\n",
    "max_Area(arr)"
   ]
  },
  {
   "cell_type": "code",
   "execution_count": null,
   "id": "56796b74",
   "metadata": {},
   "outputs": [],
   "source": []
  }
 ],
 "metadata": {
  "kernelspec": {
   "display_name": "gem_learn",
   "language": "python",
   "name": "python3"
  },
  "language_info": {
   "codemirror_mode": {
    "name": "ipython",
    "version": 3
   },
   "file_extension": ".py",
   "mimetype": "text/x-python",
   "name": "python",
   "nbconvert_exporter": "python",
   "pygments_lexer": "ipython3",
   "version": "3.10.16"
  }
 },
 "nbformat": 4,
 "nbformat_minor": 5
}
