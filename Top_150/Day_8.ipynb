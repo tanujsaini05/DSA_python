{
 "cells": [
  {
   "cell_type": "code",
   "execution_count": 4,
   "id": "3278012b",
   "metadata": {},
   "outputs": [],
   "source": [
    "def simplifypath(path):\n",
    "    stack = []\n",
    "    parts = path.split('/')\n",
    "\n",
    "    for part in parts:\n",
    "        if part == '' or part == '.':\n",
    "            continue\n",
    "        elif part == '..':\n",
    "            if stack:\n",
    "                stack.pop()\n",
    "        else:\n",
    "            stack.append(part)\n",
    "    return \"/\"+'/'.join(stack)"
   ]
  },
  {
   "cell_type": "code",
   "execution_count": 5,
   "id": "14f9eb4f",
   "metadata": {},
   "outputs": [
    {
     "data": {
      "text/plain": [
       "'/home'"
      ]
     },
     "execution_count": 5,
     "metadata": {},
     "output_type": "execute_result"
    }
   ],
   "source": [
    "simplifypath('/home/')"
   ]
  },
  {
   "cell_type": "code",
   "execution_count": 1,
   "id": "7f3b0e20",
   "metadata": {},
   "outputs": [],
   "source": [
    "class MinStack:\n",
    "\n",
    "    def __init__(self,):\n",
    "        self.stack = []\n",
    "        self.minstack= []\n",
    "        \n",
    "\n",
    "    def push(self, val: int) -> None:\n",
    "        self.stack.append(val)\n",
    "        if not self.minstack or val<= self.minstack[-1]:\n",
    "            self.minstack.append(val)\n",
    "        \n",
    "\n",
    "    def pop(self) -> None:\n",
    "        if self.stack.pop() == self.minstack[-1]:\n",
    "            self.minstack.pop()\n",
    "         \n",
    "        \n",
    "\n",
    "    def top(self) -> int:\n",
    "        return self.stack[-1]\n",
    "        \n",
    "\n",
    "    def getMin(self) -> int:\n",
    "        return self.minstack[-1]\n",
    "        "
   ]
  },
  {
   "cell_type": "code",
   "execution_count": 1,
   "id": "a88a95bf",
   "metadata": {},
   "outputs": [
    {
     "ename": "SyntaxError",
     "evalue": "incomplete input (3877246620.py, line 4)",
     "output_type": "error",
     "traceback": [
      "\u001b[1;36m  Cell \u001b[1;32mIn[1], line 4\u001b[1;36m\u001b[0m\n\u001b[1;33m    \u001b[0m\n\u001b[1;37m    ^\u001b[0m\n\u001b[1;31mSyntaxError\u001b[0m\u001b[1;31m:\u001b[0m incomplete input\n"
     ]
    }
   ],
   "source": [
    "def RPN(nums):\n",
    "    for i in nums:\n",
    "        if i in \"+\":\n",
    "            \n"
   ]
  },
  {
   "cell_type": "markdown",
   "id": "dbd817f9",
   "metadata": {},
   "source": [
    "### Revision"
   ]
  },
  {
   "cell_type": "code",
   "execution_count": 2,
   "id": "a509577d",
   "metadata": {},
   "outputs": [],
   "source": [
    "\n",
    "class Node:\n",
    "    def __init__(self,data):\n",
    "        self.data = data\n",
    "        self.next = None \n",
    "        \n",
    "\n",
    "\n",
    "def hasCycle(head):\n",
    "    fst = head\n",
    "    slow = head\n",
    "    while fst and fst.next:\n",
    "        slow,fst = slow.next,fst.next.next\n",
    "        if slow == fst:\n",
    "            return True\n",
    "    return False"
   ]
  },
  {
   "cell_type": "code",
   "execution_count": 7,
   "id": "ccc946cd",
   "metadata": {},
   "outputs": [],
   "source": [
    "a = Node(10)\n",
    "b = Node(20)\n",
    "a.next = b\n",
    "c = Node(30)\n",
    "b.next = c\n",
    "\n",
    "d = Node(40)\n",
    "c.next = d\n",
    "#d.next = b"
   ]
  },
  {
   "cell_type": "code",
   "execution_count": 8,
   "id": "08446601",
   "metadata": {},
   "outputs": [
    {
     "data": {
      "text/plain": [
       "False"
      ]
     },
     "execution_count": 8,
     "metadata": {},
     "output_type": "execute_result"
    }
   ],
   "source": [
    "hasCycle(a)"
   ]
  },
  {
   "cell_type": "code",
   "execution_count": null,
   "id": "b214fb00",
   "metadata": {},
   "outputs": [],
   "source": []
  },
  {
   "cell_type": "code",
   "execution_count": null,
   "id": "105c669c",
   "metadata": {},
   "outputs": [],
   "source": []
  }
 ],
 "metadata": {
  "kernelspec": {
   "display_name": "gem_learn",
   "language": "python",
   "name": "python3"
  },
  "language_info": {
   "codemirror_mode": {
    "name": "ipython",
    "version": 3
   },
   "file_extension": ".py",
   "mimetype": "text/x-python",
   "name": "python",
   "nbconvert_exporter": "python",
   "pygments_lexer": "ipython3",
   "version": "3.10.16"
  }
 },
 "nbformat": 4,
 "nbformat_minor": 5
}
