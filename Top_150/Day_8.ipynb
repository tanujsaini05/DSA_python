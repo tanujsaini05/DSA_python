{
 "cells": [
  {
   "cell_type": "code",
   "execution_count": 4,
   "id": "3278012b",
   "metadata": {},
   "outputs": [],
   "source": [
    "def simplifypath(path):\n",
    "    stack = []\n",
    "    parts = path.split('/')\n",
    "\n",
    "    for part in parts:\n",
    "        if part == '' or part == '.':\n",
    "            continue\n",
    "        elif part == '..':\n",
    "            if stack:\n",
    "                stack.pop()\n",
    "        else:\n",
    "            stack.append(part)\n",
    "    return \"/\"+'/'.join(stack)"
   ]
  },
  {
   "cell_type": "code",
   "execution_count": 5,
   "id": "14f9eb4f",
   "metadata": {},
   "outputs": [
    {
     "data": {
      "text/plain": [
       "'/home'"
      ]
     },
     "execution_count": 5,
     "metadata": {},
     "output_type": "execute_result"
    }
   ],
   "source": [
    "simplifypath('/home/')"
   ]
  },
  {
   "cell_type": "code",
   "execution_count": 1,
   "id": "7f3b0e20",
   "metadata": {},
   "outputs": [],
   "source": [
    "class MinStack:\n",
    "\n",
    "    def __init__(self,):\n",
    "        self.stack = []\n",
    "        self.minstack= []\n",
    "        \n",
    "\n",
    "    def push(self, val: int) -> None:\n",
    "        self.stack.append(val)\n",
    "        if not self.minstack or val<= self.minstack[-1]:\n",
    "            self.minstack.append(val)\n",
    "        \n",
    "\n",
    "    def pop(self) -> None:\n",
    "        if self.stack.pop() == self.minstack[-1]:\n",
    "            self.minstack.pop()\n",
    "         \n",
    "        \n",
    "\n",
    "    def top(self) -> int:\n",
    "        return self.stack[-1]\n",
    "        \n",
    "\n",
    "    def getMin(self) -> int:\n",
    "        return self.minstack[-1]\n",
    "        "
   ]
  },
  {
   "cell_type": "code",
   "execution_count": null,
   "id": "a88a95bf",
   "metadata": {},
   "outputs": [],
   "source": []
  }
 ],
 "metadata": {
  "kernelspec": {
   "display_name": "gem_learn",
   "language": "python",
   "name": "python3"
  },
  "language_info": {
   "codemirror_mode": {
    "name": "ipython",
    "version": 3
   },
   "file_extension": ".py",
   "mimetype": "text/x-python",
   "name": "python",
   "nbconvert_exporter": "python",
   "pygments_lexer": "ipython3",
   "version": "3.10.16"
  }
 },
 "nbformat": 4,
 "nbformat_minor": 5
}
