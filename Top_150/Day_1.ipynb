{
 "cells": [
  {
   "cell_type": "code",
   "execution_count": 1,
   "id": "6bf4c445",
   "metadata": {},
   "outputs": [
    {
     "name": "stdout",
     "output_type": "stream",
     "text": [
      "Hello world!\n"
     ]
    }
   ],
   "source": [
    "print('Hello world!')"
   ]
  },
  {
   "cell_type": "code",
   "execution_count": 2,
   "id": "39f9a5d4",
   "metadata": {},
   "outputs": [],
   "source": [
    "def findmaj(arr,n):\n",
    "    cand = -1\n",
    "    votes = 0\n",
    "    for i in range(n):\n",
    "        if votes  == 0:\n",
    "            cand = arr[i]\n",
    "            votes = 1\n",
    "        else:\n",
    "            if arr[i] == cand:\n",
    "                votes +=1\n",
    "            else:\n",
    "                votes -=1\n",
    "    count = 0\n",
    "    for i in range(n):\n",
    "        if arr[i] == cand:\n",
    "            count += 1\n",
    "    if count > n//2:\n",
    "        return cand\n",
    "    else:\n",
    "        return -1\n",
    "    "
   ]
  },
  {
   "cell_type": "code",
   "execution_count": 4,
   "id": "45c34b85",
   "metadata": {},
   "outputs": [
    {
     "name": "stdout",
     "output_type": "stream",
     "text": [
      "Here is the majority of numbers in the array: 2\n"
     ]
    }
   ],
   "source": [
    "arr = [2,2,2,2,3]\n",
    "n= len(arr)\n",
    "print(f\"Here is the majority of numbers in the array: {findmaj(arr,n)}\")"
   ]
  },
  {
   "cell_type": "code",
   "execution_count": null,
   "id": "7d64cdb0",
   "metadata": {},
   "outputs": [],
   "source": [
    "def canjump(nums):\n",
    "    n = len(nums)\n",
    "    far = 0\n",
    "    for i in range(n):\n",
    "        if i>= far:\n",
    "            return True\n",
    "        far = max(far,i+nums[i])\n",
    "    return False\n"
   ]
  },
  {
   "cell_type": "code",
   "execution_count": 6,
   "id": "c0808e0f",
   "metadata": {},
   "outputs": [
    {
     "name": "stdout",
     "output_type": "stream",
     "text": [
      "Can jump to the end of the array: True\n"
     ]
    }
   ],
   "source": [
    "arr= [2,3,1,1,4]\n",
    "print(f\"Can jump to the end of the array: {canjump(arr)}\")"
   ]
  },
  {
   "cell_type": "code",
   "execution_count": null,
   "id": "06ac31b0",
   "metadata": {},
   "outputs": [],
   "source": []
  },
  {
   "cell_type": "code",
   "execution_count": null,
   "id": "b5396f6d",
   "metadata": {},
   "outputs": [],
   "source": []
  }
 ],
 "metadata": {
  "kernelspec": {
   "display_name": "base",
   "language": "python",
   "name": "python3"
  },
  "language_info": {
   "codemirror_mode": {
    "name": "ipython",
    "version": 3
   },
   "file_extension": ".py",
   "mimetype": "text/x-python",
   "name": "python",
   "nbconvert_exporter": "python",
   "pygments_lexer": "ipython3",
   "version": "3.12.7"
  }
 },
 "nbformat": 4,
 "nbformat_minor": 5
}
