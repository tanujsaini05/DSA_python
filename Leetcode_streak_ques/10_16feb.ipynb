{
 "cells": [
  {
   "cell_type": "markdown",
   "metadata": {},
   "source": [
    "#### Feb 12, 2025"
   ]
  },
  {
   "cell_type": "markdown",
   "metadata": {},
   "source": [
    "#### 2342. Max sum of a pair with equal sum of digits\n",
    "\n",
    "You are given a 0-indexed array nums consisting of positive integers. You can choose two indices i and j, such that i != j, and the sum of digits of the number nums[i] is equal to that of nums[j].\n",
    "\n",
    "Return the maximum value of nums[i] + nums[j] that you can obtain over all possible indices i and j that satisfy the conditions."
   ]
  },
  {
   "cell_type": "code",
   "execution_count": 1,
   "metadata": {},
   "outputs": [],
   "source": [
    "def max_sum(arr):\n",
    "    max_nums = [-1] * 82  # hash map\n",
    "    ans = 0\n",
    "    for i in arr:\n",
    "        ds = sum(int(k) for k in str(i) )  ## digit sum\n",
    "\n",
    "        if max_nums[ds] != -1:\n",
    "            ans = max(ans,i+max_nums[ds])\n",
    "\n",
    "        max_nums[ds] = max(max_nums[ds],i)\n",
    "    return ans\n"
   ]
  },
  {
   "cell_type": "code",
   "execution_count": 2,
   "metadata": {},
   "outputs": [
    {
     "data": {
      "text/plain": [
       "121"
      ]
     },
     "execution_count": 2,
     "metadata": {},
     "output_type": "execute_result"
    }
   ],
   "source": [
    "max_sum([10,12,23,45,67,89,65,43,56])"
   ]
  },
  {
   "cell_type": "markdown",
   "metadata": {},
   "source": [
    "### 3066. Minimum Operations to Exceed Threshold value \n",
    "\n",
    "You are given a 0-indexed integer array nums, and an integer k.\n",
    "\n",
    "In one operation, you will:\n",
    "\n",
    "Take the two smallest integers x and y in nums.\n",
    "Remove x and y from nums.\n",
    "Add min(x, y) * 2 + max(x, y) anywhere in the array.\n",
    "Note that you can only apply the described operation if nums contains at least two elements.\n",
    "\n",
    "Return the minimum number of operations needed so that all elements of the array are greater than or equal to k."
   ]
  },
  {
   "cell_type": "code",
   "execution_count": null,
   "metadata": {},
   "outputs": [],
   "source": [
    "def minOperation(arr,k):\n",
    "    count = 0 \n",
    "    for i in range(len(arr)):\n",
    "        if min(arr) >= k:\n",
    "            return count\n",
    "        else:\n",
    "            new_ = [arr.pop(arr[min(arr)]), arr.pop(arr[min(arr)])]\n",
    "            arr.append(min(new_)*2 + max(new_))\n",
    "            count+=1\n",
    "    return count\n"
   ]
  },
  {
   "cell_type": "code",
   "execution_count": 18,
   "metadata": {},
   "outputs": [],
   "source": [
    "def minheap(arr,k):\n",
    "    count =0 \n",
    "    arr.sort()\n",
    "    while len(arr) > 1 and arr[0] < k:\n",
    "        x = arr.pop(0)\n",
    "        y = arr.pop(0)\n",
    "\n",
    "        new_val = x * 2 + y\n",
    "        arr.append(new_val)\n",
    "        arr.sort()\n",
    "\n",
    "        count+=1\n",
    "\n",
    "    return count if arr[0] >= k else -1"
   ]
  },
  {
   "cell_type": "code",
   "execution_count": null,
   "metadata": {},
   "outputs": [],
   "source": []
  },
  {
   "cell_type": "markdown",
   "metadata": {},
   "source": [
    "#### 2698. Find the Punishment Number of an Integer\n",
    "\n",
    "Given a positive integer n, return the punishment number of n.\n",
    "\n",
    "o The punishment number of n is defined as the sum of the squares of all integers i such that:\n",
    "1 <= i <= n\n",
    "\n",
    "The decimal representation of i * i can be partitioned into contiguous substrings such that the sum of the integer values of these substrings equals i. "
   ]
  },
  {
   "cell_type": "code",
   "execution_count": null,
   "metadata": {},
   "outputs": [],
   "source": []
  }
 ],
 "metadata": {
  "kernelspec": {
   "display_name": "gem_learn",
   "language": "python",
   "name": "python3"
  },
  "language_info": {
   "codemirror_mode": {
    "name": "ipython",
    "version": 3
   },
   "file_extension": ".py",
   "mimetype": "text/x-python",
   "name": "python",
   "nbconvert_exporter": "python",
   "pygments_lexer": "ipython3",
   "version": "3.10.16"
  }
 },
 "nbformat": 4,
 "nbformat_minor": 2
}
