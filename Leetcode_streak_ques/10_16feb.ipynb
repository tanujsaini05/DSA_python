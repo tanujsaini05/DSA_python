{
 "cells": [
  {
   "cell_type": "markdown",
   "metadata": {},
   "source": [
    "#### Feb 12, 2025"
   ]
  },
  {
   "cell_type": "markdown",
   "metadata": {},
   "source": [
    "#### 2342. Max sum of a pair with equal sum of digits\n",
    "\n",
    "You are given a 0-indexed array nums consisting of positive integers. You can choose two indices i and j, such that i != j, and the sum of digits of the number nums[i] is equal to that of nums[j].\n",
    "\n",
    "Return the maximum value of nums[i] + nums[j] that you can obtain over all possible indices i and j that satisfy the conditions."
   ]
  },
  {
   "cell_type": "code",
   "execution_count": 1,
   "metadata": {},
   "outputs": [],
   "source": [
    "def max_sum(arr):\n",
    "    max_nums = [-1] * 82  # hash map\n",
    "    ans = 0\n",
    "    for i in arr:\n",
    "        ds = sum(int(k) for k in str(i) )  ## digit sum\n",
    "\n",
    "        if max_nums[ds] != -1:\n",
    "            ans = max(ans,i+max_nums[ds])\n",
    "\n",
    "        max_nums[ds] = max(max_nums[ds],i)\n",
    "    return ans\n"
   ]
  },
  {
   "cell_type": "code",
   "execution_count": 2,
   "metadata": {},
   "outputs": [
    {
     "data": {
      "text/plain": [
       "121"
      ]
     },
     "execution_count": 2,
     "metadata": {},
     "output_type": "execute_result"
    }
   ],
   "source": [
    "max_sum([10,12,23,45,67,89,65,43,56])"
   ]
  },
  {
   "cell_type": "code",
   "execution_count": null,
   "metadata": {},
   "outputs": [],
   "source": []
  }
 ],
 "metadata": {
  "kernelspec": {
   "display_name": "genai_env_",
   "language": "python",
   "name": "python3"
  },
  "language_info": {
   "codemirror_mode": {
    "name": "ipython",
    "version": 3
   },
   "file_extension": ".py",
   "mimetype": "text/x-python",
   "name": "python",
   "nbconvert_exporter": "python",
   "pygments_lexer": "ipython3",
   "version": "3.10.16"
  }
 },
 "nbformat": 4,
 "nbformat_minor": 2
}
