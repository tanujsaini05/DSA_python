{
 "cells": [
  {
   "cell_type": "markdown",
   "metadata": {},
   "source": [
    "#### Here we will performe linked list using python\n"
   ]
  },
  {
   "cell_type": "code",
   "execution_count": 1,
   "metadata": {},
   "outputs": [
    {
     "name": "stdout",
     "output_type": "stream",
     "text": [
      "Hello Bro \n"
     ]
    }
   ],
   "source": [
    "print('Hello Bro ')"
   ]
  },
  {
   "cell_type": "markdown",
   "metadata": {},
   "source": [
    "### Operations in Linked List\n",
    "##### Traversing \n",
    "##### Insertion \n",
    "##### Deletion"
   ]
  },
  {
   "cell_type": "code",
   "execution_count": 1,
   "metadata": {},
   "outputs": [],
   "source": [
    "# linked list\n",
    "class Node:\n",
    "    def __init__(self,data):\n",
    "        self.data = data\n",
    "        self.next = None\n",
    "    "
   ]
  },
  {
   "cell_type": "code",
   "execution_count": 2,
   "metadata": {},
   "outputs": [],
   "source": [
    "a=Node(20)\n",
    "\n",
    "a.next=Node(30)\n",
    "b = a.next\n",
    "\n",
    "b.next = Node(40)\n",
    "c= b.next\n",
    "\n",
    "\n",
    "c.next=Node(50)\n",
    "d= c.next\n",
    "def traverse(a):\n",
    "\n",
    "    current = a\n",
    "    while current:\n",
    "        print(current.data ,end = ' -> ')\n",
    "        current = current.next\n",
    "    print(None)\n"
   ]
  },
  {
   "cell_type": "code",
   "execution_count": 4,
   "metadata": {},
   "outputs": [],
   "source": [
    "# performing insertion manually\n",
    "def insert_n(data):\n",
    "    current = a\n",
    "    while current.next is not None:\n",
    "        current = current.next\n",
    "    #print(None)\n",
    "    current.next = Node(data)\n",
    "insert_n(60)"
   ]
  },
  {
   "cell_type": "code",
   "execution_count": 5,
   "metadata": {},
   "outputs": [
    {
     "name": "stdout",
     "output_type": "stream",
     "text": [
      "20 -> 30 -> 40 -> 50 -> 60 -> None\n"
     ]
    }
   ],
   "source": [
    "traverse()"
   ]
  },
  {
   "cell_type": "code",
   "execution_count": 37,
   "metadata": {},
   "outputs": [],
   "source": [
    "# performing deletion from last\n",
    "def delete_n():\n",
    "    current= a\n",
    "    prev_n = None\n",
    "    p_prev_n =None\n",
    "    while current:\n",
    "        p_prev_n= prev_n\n",
    "        prev_n =current\n",
    "        current = current.next\n",
    "    p_prev_n.next = None\n",
    "    print(prev_n.data)"
   ]
  },
  {
   "cell_type": "code",
   "execution_count": 38,
   "metadata": {},
   "outputs": [
    {
     "name": "stdout",
     "output_type": "stream",
     "text": [
      "60\n",
      "20 -> 30 -> 40 -> 50 -> None\n"
     ]
    }
   ],
   "source": [
    "delete_n()\n",
    "traverse()"
   ]
  },
  {
   "cell_type": "code",
   "execution_count": 1,
   "metadata": {},
   "outputs": [
    {
     "name": "stdout",
     "output_type": "stream",
     "text": [
      "1\n"
     ]
    }
   ],
   "source": [
    "print(4321 % 10)"
   ]
  },
  {
   "cell_type": "markdown",
   "metadata": {},
   "source": [
    "##  Add two numbers\n",
    "[1,4,3] + [2,1,5] = [3,5,8]"
   ]
  },
  {
   "cell_type": "code",
   "execution_count": 8,
   "metadata": {},
   "outputs": [
    {
     "name": "stdout",
     "output_type": "stream",
     "text": [
      "1 -> 4 -> 3 -> None\n"
     ]
    }
   ],
   "source": [
    "# LL1\n",
    "a1 = Node(1)\n",
    "\n",
    "a1.next =Node(4)\n",
    "a2 = a1.next\n",
    "\n",
    "a2.next = Node(3)\n",
    "a3 = a2.next\n",
    "\n",
    "a3.next = None\n",
    "traverse(a1)"
   ]
  },
  {
   "cell_type": "code",
   "execution_count": 7,
   "metadata": {},
   "outputs": [
    {
     "name": "stdout",
     "output_type": "stream",
     "text": [
      "2 -> 1 -> 5 -> None\n"
     ]
    }
   ],
   "source": [
    "# LL2\n",
    "\n",
    "b1 = Node(2)\n",
    "\n",
    "b1.next = Node(1)\n",
    "b2 = b1.next\n",
    "\n",
    "b2.next = Node(5)\n",
    "b3 = b2.next\n",
    "\n",
    "b3.next = None\n",
    "def traverse(a):\n",
    "\n",
    "    current = a\n",
    "    while current:\n",
    "        print(current.data ,end = ' -> ')\n",
    "        current = current.next\n",
    "    print(None)\n",
    "traverse(b1)"
   ]
  },
  {
   "cell_type": "code",
   "execution_count": 13,
   "metadata": {},
   "outputs": [
    {
     "name": "stdout",
     "output_type": "stream",
     "text": [
      "3 -> 5 -> 8 -> None\n"
     ]
    }
   ],
   "source": [
    "def add(l1h,l2h):\n",
    "    \n",
    "    head = None\n",
    "    tail = None\n",
    "    \n",
    "    while l1h is not None and l2h is not None:\n",
    "\n",
    "        new_node = Node(l1h.data+ l2h.data)\n",
    "\n",
    "        if head is None:\n",
    "            head = new_node\n",
    "            tail = new_node\n",
    "        else:\n",
    "            tail.next = new_node\n",
    "            tail = new_node\n",
    "            \n",
    "        l1h = l1h.next\n",
    "        l2h = l2h.next\n",
    "    traverse(head)\n",
    "add(a1,b1)"
   ]
  },
  {
   "cell_type": "markdown",
   "metadata": {},
   "source": [
    "#### Remove the nth node from end"
   ]
  },
  {
   "cell_type": "code",
   "execution_count": null,
   "metadata": {},
   "outputs": [],
   "source": [
    "def removeNode(head,n):\n",
    "    dummy = Node(0)\n",
    "    dummy.next = head\n",
    "    first = dummy\n",
    "    sec_ = dummy \n",
    "\n",
    "    for _ in range(n+1):\n",
    "        first = first.next\n",
    "    while first is not None:\n",
    "        first = first.next\n",
    "        sec_ = sec_.next\n",
    "\n",
    "    sec_.next =sec_.next.next\n",
    "\n",
    "    return dummy.next"
   ]
  },
  {
   "cell_type": "code",
   "execution_count": 8,
   "metadata": {},
   "outputs": [],
   "source": [
    "p=Node(40)\n",
    "\n",
    "p.next=Node(40)\n",
    "q = p.next\n",
    "\n",
    "q.next = Node(50)\n",
    "r= q.next\n",
    "\n",
    "\n",
    "r.next=Node(60)\n",
    "s= r.next\n",
    "\n",
    "\n",
    "a=Node(20)\n",
    "\n",
    "a.next=Node(30)\n",
    "b = a.next\n",
    "\n",
    "b.next = Node(40)\n",
    "c= b.next\n",
    "\n",
    "\n",
    "c.next=Node(50)\n",
    "d= c.next"
   ]
  },
  {
   "cell_type": "code",
   "execution_count": 11,
   "metadata": {},
   "outputs": [
    {
     "ename": "TypeError",
     "evalue": "Node.__init__() missing 1 required positional argument: 'data'",
     "output_type": "error",
     "traceback": [
      "\u001b[1;31m---------------------------------------------------------------------------\u001b[0m",
      "\u001b[1;31mTypeError\u001b[0m                                 Traceback (most recent call last)",
      "Cell \u001b[1;32mIn[11], line 25\u001b[0m\n\u001b[0;32m     23\u001b[0m         current \u001b[38;5;241m=\u001b[39m current\u001b[38;5;241m.\u001b[39mnext\n\u001b[0;32m     24\u001b[0m     \u001b[38;5;28mprint\u001b[39m(\u001b[38;5;28;01mNone\u001b[39;00m)\n\u001b[1;32m---> 25\u001b[0m traverse(\u001b[43mmergeTwoLists\u001b[49m\u001b[43m(\u001b[49m\u001b[43ma\u001b[49m\u001b[43m,\u001b[49m\u001b[43mp\u001b[49m\u001b[43m)\u001b[49m)\n",
      "Cell \u001b[1;32mIn[11], line 3\u001b[0m, in \u001b[0;36mmergeTwoLists\u001b[1;34m(list1, list2)\u001b[0m\n\u001b[0;32m      1\u001b[0m \u001b[38;5;28;01mdef\u001b[39;00m \u001b[38;5;21mmergeTwoLists\u001b[39m(list1: Node, list2: Node) \u001b[38;5;241m-\u001b[39m\u001b[38;5;241m>\u001b[39m Node:\n\u001b[0;32m      2\u001b[0m     \u001b[38;5;66;03m# Create a dummy node to simplify edge cases\u001b[39;00m\n\u001b[1;32m----> 3\u001b[0m     dummy \u001b[38;5;241m=\u001b[39m \u001b[43mNode\u001b[49m\u001b[43m(\u001b[49m\u001b[43m)\u001b[49m\n\u001b[0;32m      4\u001b[0m     current \u001b[38;5;241m=\u001b[39m dummy\n\u001b[0;32m      6\u001b[0m     \u001b[38;5;66;03m# Compare nodes from both lists and append the smaller one\u001b[39;00m\n",
      "\u001b[1;31mTypeError\u001b[0m: Node.__init__() missing 1 required positional argument: 'data'"
     ]
    }
   ],
   "source": [
    "\n",
    "\n",
    "def mergeTwoLists(list1: Node, list2: Node) -> Node:\n",
    "    # Create a dummy node to simplify edge cases\n",
    "    dummy = Node()\n",
    "    current = dummy\n",
    "    \n",
    "    # Compare nodes from both lists and append the smaller one\n",
    "    while list1 and list2:\n",
    "        if list1.data < list2.data:\n",
    "            current.next = list1\n",
    "            list1 = list1.next\n",
    "        else:\n",
    "            current.next = list2\n",
    "            list2 = list2.next\n",
    "        current = current.next\n",
    "    \n",
    "    # If there are remaining nodes in either list, append them\n",
    "    current.next = list1 if list1 else list2\n",
    "    \n",
    "    # Return the merged list starting from the first real node\n",
    "    #current = a\n",
    "    while dummy:\n",
    "        print(current.data ,end = ' -> ')\n",
    "        current = current.next\n",
    "    print(None)\n",
    "traverse(mergeTwoLists(a,p))"
   ]
  },
  {
   "cell_type": "code",
   "execution_count": 10,
   "metadata": {},
   "outputs": [
    {
     "name": "stdout",
     "output_type": "stream",
     "text": [
      "40 -> 40 -> 50 -> 60 -> None\n"
     ]
    }
   ],
   "source": [
    "traverse(mergeTwoLists())"
   ]
  },
  {
   "cell_type": "code",
   "execution_count": null,
   "metadata": {},
   "outputs": [],
   "source": []
  },
  {
   "cell_type": "code",
   "execution_count": 15,
   "metadata": {},
   "outputs": [],
   "source": [
    "def addsortedLL(head1,head2):\n",
    "    dummy = Node(0)\n",
    "    current = dummy\n",
    "\n",
    "    while head1 is not None and head2 is not None:\n",
    "        if head2.data < head1.data:\n",
    "            current.next = head2\n",
    "            head2.next= head1\n",
    "        else:\n",
    "            current.next = head1\n",
    "            head1.next = head2\n",
    "        current = current.next\n",
    "\n",
    "    if head1 is not None:\n",
    "        current.next = head1\n",
    "    elif head2 is not None:\n",
    "        current.next = head2\n",
    "        \n",
    "    dummy = dummy.next\n",
    "    while dummy:\n",
    "        print(dummy.data ,end = ' -> ')\n",
    "        dummy = dummy.next\n",
    "    print(None)\n"
   ]
  },
  {
   "cell_type": "code",
   "execution_count": 16,
   "metadata": {},
   "outputs": [
    {
     "ename": "KeyboardInterrupt",
     "evalue": "",
     "output_type": "error",
     "traceback": [
      "\u001b[1;31m---------------------------------------------------------------------------\u001b[0m",
      "\u001b[1;31mKeyboardInterrupt\u001b[0m                         Traceback (most recent call last)",
      "Cell \u001b[1;32mIn[16], line 1\u001b[0m\n\u001b[1;32m----> 1\u001b[0m \u001b[43maddsortedLL\u001b[49m\u001b[43m(\u001b[49m\u001b[43ma\u001b[49m\u001b[43m,\u001b[49m\u001b[43mp\u001b[49m\u001b[43m)\u001b[49m\n",
      "Cell \u001b[1;32mIn[15], line 5\u001b[0m, in \u001b[0;36maddsortedLL\u001b[1;34m(head1, head2)\u001b[0m\n\u001b[0;32m      2\u001b[0m dummy \u001b[38;5;241m=\u001b[39m Node(\u001b[38;5;241m0\u001b[39m)\n\u001b[0;32m      3\u001b[0m current \u001b[38;5;241m=\u001b[39m dummy\n\u001b[1;32m----> 5\u001b[0m \u001b[38;5;28;01mwhile\u001b[39;00m head1 \u001b[38;5;129;01mis\u001b[39;00m \u001b[38;5;129;01mnot\u001b[39;00m \u001b[38;5;28;01mNone\u001b[39;00m \u001b[38;5;129;01mand\u001b[39;00m head2 \u001b[38;5;129;01mis\u001b[39;00m \u001b[38;5;129;01mnot\u001b[39;00m \u001b[38;5;28;01mNone\u001b[39;00m:\n\u001b[0;32m      6\u001b[0m     \u001b[38;5;28;01mif\u001b[39;00m head2\u001b[38;5;241m.\u001b[39mdata \u001b[38;5;241m<\u001b[39m head1\u001b[38;5;241m.\u001b[39mdata:\n\u001b[0;32m      7\u001b[0m         current\u001b[38;5;241m.\u001b[39mnext \u001b[38;5;241m=\u001b[39m head2\n",
      "\u001b[1;31mKeyboardInterrupt\u001b[0m: "
     ]
    }
   ],
   "source": [
    "addsortedLL(a,p)"
   ]
  },
  {
   "cell_type": "code",
   "execution_count": 14,
   "metadata": {},
   "outputs": [
    {
     "name": "stdout",
     "output_type": "stream",
     "text": [
      "1 -> 2 -> 3 -> 4 -> 5 -> 6 -> None\n"
     ]
    }
   ],
   "source": [
    "class Node:\n",
    "    def __init__(self, data):\n",
    "        self.data = data\n",
    "        self.next = None\n",
    "\n",
    "def addsortedLL(head1, head2):\n",
    "    dummy = Node(0)  # Create a dummy node to simplify the merging process\n",
    "    current = dummy   # This will point to the last node in the merged list\n",
    "\n",
    "    # Merge the two lists\n",
    "    while head1 is not None and head2 is not None:\n",
    "        if head1.data < head2.data:\n",
    "            current.next = head1  # Link the smaller node\n",
    "            head1 = head1.next     # Move to the next node in head1\n",
    "        else:\n",
    "            current.next = head2  # Link the smaller node\n",
    "            head2 = head2.next     # Move to the next node in head2\n",
    "        current = current.next     # Move to the last node in the merged list\n",
    "\n",
    "    # If there are remaining nodes in either list, link them\n",
    "    if head1 is not None:\n",
    "        current.next = head1\n",
    "    elif head2 is not None:\n",
    "        current.next = head2\n",
    "\n",
    "    # Print the merged list\n",
    "    current = dummy.next  # Start from the first real node\n",
    "    while current:\n",
    "        print(current.data, end=' -> ')\n",
    "        current = current.next\n",
    "    print(None)\n",
    "\n",
    "# Example usage:\n",
    "# Creating two sorted linked lists\n",
    "head1 = Node(1)\n",
    "head1.next = Node(3)\n",
    "head1.next.next = Node(5)\n",
    "\n",
    "head2 = Node(2)\n",
    "head2.next = Node(4)\n",
    "head2.next.next = Node(6)\n",
    "\n",
    "# Merging the two sorted linked lists\n",
    "addsortedLL(head1, head2)"
   ]
  },
  {
   "cell_type": "code",
   "execution_count": null,
   "metadata": {},
   "outputs": [],
   "source": []
  }
 ],
 "metadata": {
  "kernelspec": {
   "display_name": "Python 3",
   "language": "python",
   "name": "python3"
  },
  "language_info": {
   "codemirror_mode": {
    "name": "ipython",
    "version": 3
   },
   "file_extension": ".py",
   "mimetype": "text/x-python",
   "name": "python",
   "nbconvert_exporter": "python",
   "pygments_lexer": "ipython3",
   "version": "3.12.1"
  }
 },
 "nbformat": 4,
 "nbformat_minor": 2
}
