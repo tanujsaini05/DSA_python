{
 "cells": [
  {
   "cell_type": "markdown",
   "metadata": {},
   "source": [
    "#### Here we will performe linked list using python\n"
   ]
  },
  {
   "cell_type": "code",
   "execution_count": 1,
   "metadata": {},
   "outputs": [
    {
     "name": "stdout",
     "output_type": "stream",
     "text": [
      "Hello Bro \n"
     ]
    }
   ],
   "source": [
    "print('Hello Bro ')"
   ]
  },
  {
   "cell_type": "markdown",
   "metadata": {},
   "source": [
    "### Operations in Linked List\n",
    "##### Traversing \n",
    "##### Insertion \n",
    "##### Deletion"
   ]
  },
  {
   "cell_type": "code",
   "execution_count": 2,
   "metadata": {},
   "outputs": [],
   "source": [
    "# linked list\n",
    "class Node:\n",
    "    def __init__(self,data):\n",
    "        self.data = data\n",
    "        self.next = None\n",
    "    "
   ]
  },
  {
   "cell_type": "code",
   "execution_count": 28,
   "metadata": {},
   "outputs": [],
   "source": [
    "a=Node(20)\n",
    "\n",
    "a.next=Node(30)\n",
    "b = a.next\n",
    "\n",
    "b.next = Node(40)\n",
    "c= b.next\n",
    "\n",
    "\n",
    "c.next=Node(50)\n",
    "d= c.next\n",
    "def traverse():\n",
    "\n",
    "    current = a\n",
    "    while current:\n",
    "        print(current.data ,end = ' -> ')\n",
    "        current = current.next\n",
    "    print(None)\n"
   ]
  },
  {
   "cell_type": "code",
   "execution_count": 29,
   "metadata": {},
   "outputs": [],
   "source": [
    "# performing insertion manually\n",
    "def insert_n(data):\n",
    "    current = a\n",
    "    while current.next is not None:\n",
    "        current = current.next\n",
    "    #print(None)\n",
    "    current.next = Node(data)\n",
    "insert_n(60)"
   ]
  },
  {
   "cell_type": "code",
   "execution_count": 30,
   "metadata": {},
   "outputs": [
    {
     "name": "stdout",
     "output_type": "stream",
     "text": [
      "20 -> 30 -> 40 -> 50 -> 60 -> None\n"
     ]
    }
   ],
   "source": [
    "traverse()"
   ]
  },
  {
   "cell_type": "code",
   "execution_count": 37,
   "metadata": {},
   "outputs": [],
   "source": [
    "# performing deletion from last\n",
    "def delete_n():\n",
    "    current= a\n",
    "    prev_n = None\n",
    "    p_prev_n =None\n",
    "    while current:\n",
    "        p_prev_n= prev_n\n",
    "        prev_n =current\n",
    "        current = current.next\n",
    "    p_prev_n.next = None\n",
    "    print(prev_n.data)"
   ]
  },
  {
   "cell_type": "code",
   "execution_count": 38,
   "metadata": {},
   "outputs": [
    {
     "name": "stdout",
     "output_type": "stream",
     "text": [
      "60\n",
      "20 -> 30 -> 40 -> 50 -> None\n"
     ]
    }
   ],
   "source": [
    "delete_n()\n",
    "traverse()"
   ]
  },
  {
   "cell_type": "code",
   "execution_count": 1,
   "metadata": {},
   "outputs": [
    {
     "name": "stdout",
     "output_type": "stream",
     "text": [
      "1\n"
     ]
    }
   ],
   "source": [
    "print(4321 % 10)"
   ]
  },
  {
   "cell_type": "code",
   "execution_count": null,
   "metadata": {},
   "outputs": [],
   "source": []
  }
 ],
 "metadata": {
  "kernelspec": {
   "display_name": "Python 3",
   "language": "python",
   "name": "python3"
  },
  "language_info": {
   "codemirror_mode": {
    "name": "ipython",
    "version": 3
   },
   "file_extension": ".py",
   "mimetype": "text/x-python",
   "name": "python",
   "nbconvert_exporter": "python",
   "pygments_lexer": "ipython3",
   "version": "3.12.1"
  }
 },
 "nbformat": 4,
 "nbformat_minor": 2
}
