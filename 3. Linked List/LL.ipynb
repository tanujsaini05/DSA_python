{
 "cells": [
  {
   "cell_type": "markdown",
   "metadata": {},
   "source": [
    "#### Here we will performe linked list using python\n"
   ]
  },
  {
   "cell_type": "code",
   "execution_count": 1,
   "metadata": {},
   "outputs": [
    {
     "name": "stdout",
     "output_type": "stream",
     "text": [
      "Hello Bro \n"
     ]
    }
   ],
   "source": [
    "print('Hello Bro ')"
   ]
  },
  {
   "cell_type": "markdown",
   "metadata": {},
   "source": [
    "### Operations in Linked List\n",
    "##### Traversing \n",
    "##### Insertion \n",
    "##### Deletion"
   ]
  },
  {
   "cell_type": "code",
   "execution_count": 2,
   "metadata": {},
   "outputs": [],
   "source": [
    "# linked list\n",
    "class Node:\n",
    "    def __init__(self,data):\n",
    "        self.data = data\n",
    "        self.next = None\n",
    "    "
   ]
  },
  {
   "cell_type": "code",
   "execution_count": 8,
   "metadata": {},
   "outputs": [],
   "source": [
    "a=Node(20)\n",
    "\n",
    "a.next=Node(30)\n",
    "b = a.next\n",
    "\n",
    "b.next = Node(40)\n",
    "c= b.next\n",
    "\n",
    "\n",
    "c.next=Node(50)\n",
    "d= c.next\n",
    "def traverse(a):\n",
    "\n",
    "    current = a\n",
    "    while current:\n",
    "        print(current.data ,end = ' -> ')\n",
    "        current = current.next\n",
    "    print(None)\n"
   ]
  },
  {
   "cell_type": "code",
   "execution_count": 4,
   "metadata": {},
   "outputs": [],
   "source": [
    "# performing insertion manually\n",
    "def insert_n(data):\n",
    "    current = a\n",
    "    while current.next is not None:\n",
    "        current = current.next\n",
    "    #print(None)\n",
    "    current.next = Node(data)\n",
    "insert_n(60)"
   ]
  },
  {
   "cell_type": "code",
   "execution_count": 5,
   "metadata": {},
   "outputs": [
    {
     "name": "stdout",
     "output_type": "stream",
     "text": [
      "20 -> 30 -> 40 -> 50 -> 60 -> None\n"
     ]
    }
   ],
   "source": [
    "traverse()"
   ]
  },
  {
   "cell_type": "code",
   "execution_count": 37,
   "metadata": {},
   "outputs": [],
   "source": [
    "# performing deletion from last\n",
    "def delete_n():\n",
    "    current= a\n",
    "    prev_n = None\n",
    "    p_prev_n =None\n",
    "    while current:\n",
    "        p_prev_n= prev_n\n",
    "        prev_n =current\n",
    "        current = current.next\n",
    "    p_prev_n.next = None\n",
    "    print(prev_n.data)"
   ]
  },
  {
   "cell_type": "code",
   "execution_count": 38,
   "metadata": {},
   "outputs": [
    {
     "name": "stdout",
     "output_type": "stream",
     "text": [
      "60\n",
      "20 -> 30 -> 40 -> 50 -> None\n"
     ]
    }
   ],
   "source": [
    "delete_n()\n",
    "traverse()"
   ]
  },
  {
   "cell_type": "code",
   "execution_count": 1,
   "metadata": {},
   "outputs": [
    {
     "name": "stdout",
     "output_type": "stream",
     "text": [
      "1\n"
     ]
    }
   ],
   "source": [
    "print(4321 % 10)"
   ]
  },
  {
   "cell_type": "markdown",
   "metadata": {},
   "source": [
    "##  Add two numbers\n",
    "[1,4,3] + [2,1,5] = [3,5,8]"
   ]
  },
  {
   "cell_type": "code",
   "execution_count": 8,
   "metadata": {},
   "outputs": [
    {
     "name": "stdout",
     "output_type": "stream",
     "text": [
      "1 -> 4 -> 3 -> None\n"
     ]
    }
   ],
   "source": [
    "# LL1\n",
    "a1 = Node(1)\n",
    "\n",
    "a1.next =Node(4)\n",
    "a2 = a1.next\n",
    "\n",
    "a2.next = Node(3)\n",
    "a3 = a2.next\n",
    "\n",
    "a3.next = None\n",
    "traverse(a1)"
   ]
  },
  {
   "cell_type": "code",
   "execution_count": 7,
   "metadata": {},
   "outputs": [
    {
     "name": "stdout",
     "output_type": "stream",
     "text": [
      "2 -> 1 -> 5 -> None\n"
     ]
    }
   ],
   "source": [
    "# LL2\n",
    "\n",
    "b1 = Node(2)\n",
    "\n",
    "b1.next = Node(1)\n",
    "b2 = b1.next\n",
    "\n",
    "b2.next = Node(5)\n",
    "b3 = b2.next\n",
    "\n",
    "b3.next = None\n",
    "def traverse(a):\n",
    "\n",
    "    current = a\n",
    "    while current:\n",
    "        print(current.data ,end = ' -> ')\n",
    "        current = current.next\n",
    "    print(None)\n",
    "traverse(b1)"
   ]
  },
  {
   "cell_type": "code",
   "execution_count": 13,
   "metadata": {},
   "outputs": [
    {
     "name": "stdout",
     "output_type": "stream",
     "text": [
      "3 -> 5 -> 8 -> None\n"
     ]
    }
   ],
   "source": [
    "def add(l1h,l2h):\n",
    "    \n",
    "    head = None\n",
    "    tail = None\n",
    "    \n",
    "    while l1h is not None and l2h is not None:\n",
    "\n",
    "        new_node = Node(l1h.data+ l2h.data)\n",
    "\n",
    "        if head is None:\n",
    "            head = new_node\n",
    "            tail = new_node\n",
    "        else:\n",
    "            tail.next = new_node\n",
    "            tail = new_node\n",
    "            \n",
    "        l1h = l1h.next\n",
    "        l2h = l2h.next\n",
    "    traverse(head)\n",
    "add(a1,b1)"
   ]
  },
  {
   "cell_type": "markdown",
   "metadata": {},
   "source": [
    "#### Remove the nth node from end"
   ]
  },
  {
   "cell_type": "code",
   "execution_count": null,
   "metadata": {},
   "outputs": [],
   "source": [
    "def removeNode(head,n):\n",
    "    dummy = Node(0)\n",
    "    dummy.next = head\n",
    "    first = dummy\n",
    "    sec_ = dummy \n",
    "\n",
    "    for _ in range(n+1):\n",
    "        first = first.next\n",
    "    while first is not None:\n",
    "        first = first.next\n",
    "        sec_ = sec_.next\n",
    "\n",
    "    sec_.next =sec_.next.next\n",
    "\n",
    "    return dummy.next"
   ]
  },
  {
   "cell_type": "code",
   "execution_count": 3,
   "metadata": {},
   "outputs": [],
   "source": [
    "p=Node(40)\n",
    "\n",
    "p.next=Node(40)\n",
    "q = p.next\n",
    "\n",
    "q.next = Node(50)\n",
    "r= q.next\n",
    "\n",
    "\n",
    "r.next=Node(60)\n",
    "s= r.next\n",
    "\n",
    "\n",
    "a=Node(20)\n",
    "\n",
    "a.next=Node(30)\n",
    "b = a.next\n",
    "\n",
    "b.next = Node(40)\n",
    "c= b.next\n",
    "\n",
    "\n",
    "c.next=Node(50)\n",
    "d= c.next"
   ]
  },
  {
   "cell_type": "code",
   "execution_count": 4,
   "metadata": {},
   "outputs": [],
   "source": [
    "def addsortedLL(head1,head2):\n",
    "    dummy = Node(0)\n",
    "    current = dummy\n",
    "\n",
    "    while head1 is not None and head2 is not None:\n",
    "        if head2.data < head1.data:\n",
    "            current.next = head2\n",
    "            head2= head2.next\n",
    "        else:\n",
    "            current.next = head1\n",
    "            head1 = head1.next\n",
    "        current = current.next\n",
    "\n",
    "    if head1 is not None:\n",
    "        current.next = head1\n",
    "    elif head2 is not None:\n",
    "        current.next = head2\n",
    "        \n",
    "    dummy = dummy.next\n",
    "    while dummy:\n",
    "        print(dummy.data ,end = ' -> ')\n",
    "        dummy = dummy.next\n",
    "    print(None)\n"
   ]
  },
  {
   "cell_type": "code",
   "execution_count": 8,
   "metadata": {},
   "outputs": [
    {
     "name": "stdout",
     "output_type": "stream",
     "text": [
      "20 -> 30 -> 40 -> 50 -> None\n",
      "40 -> 40 -> 50 -> 60 -> None\n"
     ]
    }
   ],
   "source": [
    "traverse(a)\n",
    "traverse(p)"
   ]
  },
  {
   "cell_type": "code",
   "execution_count": 5,
   "metadata": {},
   "outputs": [
    {
     "name": "stdout",
     "output_type": "stream",
     "text": [
      "20 -> 30 -> 40 -> 40 -> 40 -> 50 -> 50 -> 60 -> None\n"
     ]
    }
   ],
   "source": [
    "addsortedLL(a,p)"
   ]
  },
  {
   "cell_type": "code",
   "execution_count": 14,
   "metadata": {},
   "outputs": [
    {
     "name": "stdout",
     "output_type": "stream",
     "text": [
      "1 -> 2 -> 3 -> 4 -> 5 -> 6 -> None\n"
     ]
    }
   ],
   "source": [
    "class Node:\n",
    "    def __init__(self, data):\n",
    "        self.data = data\n",
    "        self.next = None\n",
    "\n",
    "def addsortedLL(head1, head2):\n",
    "    dummy = Node(0)  # Create a dummy node to simplify the merging process\n",
    "    current = dummy   # This will point to the last node in the merged list\n",
    "\n",
    "    # Merge the two lists\n",
    "    while head1 is not None and head2 is not None:\n",
    "        if head1.data < head2.data:\n",
    "            current.next = head1  # Link the smaller node\n",
    "            head1 = head1.next     # Move to the next node in head1\n",
    "        else:\n",
    "            current.next = head2  # Link the smaller node\n",
    "            head2 = head2.next     # Move to the next node in head2\n",
    "        current = current.next     # Move to the last node in the merged list\n",
    "\n",
    "    # If there are remaining nodes in either list, link them\n",
    "    if head1 is not None:\n",
    "        current.next = head1\n",
    "    elif head2 is not None:\n",
    "        current.next = head2\n",
    "\n",
    "    # Print the merged list\n",
    "    current = dummy.next  # Start from the first real node\n",
    "    while current:\n",
    "        print(current.data, end=' -> ')\n",
    "        current = current.next\n",
    "    print(None)\n",
    "\n",
    "# Example usage:\n",
    "# Creating two sorted linked lists\n",
    "head1 = Node(1)\n",
    "head1.next = Node(3)\n",
    "head1.next.next = Node(5)\n",
    "\n",
    "head2 = Node(2)\n",
    "head2.next = Node(4)\n",
    "head2.next.next = Node(6)\n",
    "\n",
    "# Merging the two sorted linked lists\n",
    "addsortedLL(head1, head2)"
   ]
  },
  {
   "cell_type": "code",
   "execution_count": 12,
   "metadata": {},
   "outputs": [],
   "source": [
    "x= Node(11)\n",
    "\n",
    "x.next = Node(12)\n",
    "y=x.next\n",
    "\n",
    "y.next = Node(13)\n",
    "z=y.next\n",
    "\n",
    "lll=[a,p,x]"
   ]
  },
  {
   "cell_type": "code",
   "execution_count": 18,
   "metadata": {},
   "outputs": [],
   "source": [
    "def mergeKlists(list):\n",
    "    if not list:\n",
    "        return None\n",
    "    \n",
    "    dummy = Node(0)\n",
    "    merged = dummy\n",
    "    for i in range(1,len(list)):\n",
    "        mergeTwoLL(merged,list[i])\n",
    "    traverse(merged)"
   ]
  },
  {
   "cell_type": "code",
   "execution_count": 21,
   "metadata": {},
   "outputs": [],
   "source": [
    "def mergeTwoLL(head1,head2):\n",
    "    dummy = Node(0)\n",
    "    current = dummy\n",
    "\n",
    "    while head1 is not None and head2 is not None:\n",
    "        if head2.data < head1.data:\n",
    "            current.next = head2\n",
    "            head2= head2.next\n",
    "        else:\n",
    "            current.next = head1\n",
    "            head1 = head1.next\n",
    "        current = current.next\n",
    "\n",
    "    if head1 is not None:\n",
    "        current.next = head1\n",
    "    elif head2 is not None:\n",
    "        current.next = head2\n",
    "\n",
    "    return dummy.next"
   ]
  },
  {
   "cell_type": "code",
   "execution_count": 20,
   "metadata": {},
   "outputs": [
    {
     "name": "stdout",
     "output_type": "stream",
     "text": [
      "0 -> 11 -> 12 -> 13 -> 40 -> 40 -> 50 -> 60 -> None\n"
     ]
    }
   ],
   "source": [
    "mergeKlists(lll)"
   ]
  },
  {
   "cell_type": "markdown",
   "metadata": {},
   "source": [
    "### Question :Given a linked list, swap every two adjacent nodes and return its head. You must solve the problem without modifying the values in the list's nodes (i.e., only nodes themselves may be changed.)"
   ]
  },
  {
   "cell_type": "code",
   "execution_count": 1,
   "metadata": {},
   "outputs": [],
   "source": [
    "def swapNodes(head):\n",
    "    newhead = head.next\n",
    "    current = head\n",
    "    next_ = None\n",
    "    prev = head\n",
    "    while head:\n",
    "\n",
    "        if head is not None or head.next is not None:\n",
    "            prev = head\n",
    "            current = prev.next\n",
    "            next_ = current.next\n",
    "\n",
    "            current = prev\n",
    "            prev.next = next_\n",
    "            head = current\n",
    "\n",
    "    current = newhead  # Start from the first real node\n",
    "    while current:\n",
    "        print(current.data, end=' -> ')\n",
    "        current = current.next\n",
    "    print(None)\n",
    "\n",
    "    return newhead.next\n",
    "\n",
    "\n"
   ]
  },
  {
   "cell_type": "code",
   "execution_count": 5,
   "metadata": {},
   "outputs": [],
   "source": [
    "def swapNodes(head):\n",
    "    # Create a dummy node that points to the head\n",
    "    dummy = Node(0)\n",
    "    dummy.next = head\n",
    "    prev = dummy\n",
    "\n",
    "    while prev.next and prev.next.next:\n",
    "        # Nodes to be swapped\n",
    "        first = prev.next\n",
    "        second = prev.next.next\n",
    "\n",
    "        # Swapping\n",
    "        first.next = second.next\n",
    "        second.next = first\n",
    "        prev.next = second\n",
    "\n",
    "        # Move prev two nodes ahead\n",
    "        prev = first\n",
    "\n",
    "    return dummy.next"
   ]
  },
  {
   "cell_type": "code",
   "execution_count": 9,
   "metadata": {},
   "outputs": [
    {
     "name": "stdout",
     "output_type": "stream",
     "text": [
      "30 -> 20 -> 50 -> 40 -> None\n"
     ]
    }
   ],
   "source": [
    "traverse(swapNodes(a))"
   ]
  },
  {
   "cell_type": "code",
   "execution_count": 1,
   "metadata": {},
   "outputs": [
    {
     "ename": "NameError",
     "evalue": "name 'traverse' is not defined",
     "output_type": "error",
     "traceback": [
      "\u001b[1;31m---------------------------------------------------------------------------\u001b[0m",
      "\u001b[1;31mNameError\u001b[0m                                 Traceback (most recent call last)",
      "Cell \u001b[1;32mIn[1], line 1\u001b[0m\n\u001b[1;32m----> 1\u001b[0m \u001b[43mtraverse\u001b[49m()\n",
      "\u001b[1;31mNameError\u001b[0m: name 'traverse' is not defined"
     ]
    }
   ],
   "source": [
    "traverse()"
   ]
  },
  {
   "cell_type": "markdown",
   "metadata": {},
   "source": [
    "### Question : Rotate the Linked List"
   ]
  },
  {
   "cell_type": "code",
   "execution_count": 1,
   "metadata": {},
   "outputs": [],
   "source": [
    "class Node:\n",
    "    def __init__(self, data):\n",
    "        self.data = data\n",
    "        self.next = None\n"
   ]
  },
  {
   "cell_type": "code",
   "execution_count": 2,
   "metadata": {},
   "outputs": [],
   "source": [
    "def RotateLL(head,k):\n",
    "\n",
    "    if head is None or head.next is None or k == 0:  # Handle edge cases\n",
    "        return head\n",
    "    \n",
    "    length = 0\n",
    "    current = head \n",
    "\n",
    "    while current:\n",
    "        length+=1\n",
    "        current = current.next\n",
    "\n",
    "    \n",
    "    current = head\n",
    "    #current_next = current\n",
    "\n",
    "    while current.next:\n",
    "        current = current.next\n",
    "    current.next = head\n",
    "\n",
    "    k = k % length\n",
    "    \n",
    "\n",
    "    if k == 0:  # No rotation needed\n",
    "        current.next = None  \n",
    "        return head\n",
    "    \n",
    "    \n",
    "    new_tail_index = length - k - 1  \n",
    "    new_tail = head\n",
    "    #current = head \n",
    "\n",
    "    for i in range(new_tail_index):\n",
    "        new_tail = new_tail.next\n",
    "\n",
    "    new_head = new_tail.next\n",
    "\n",
    "    new_tail.next = None\n",
    "\n",
    "    return new_head\n",
    "\n",
    "\n",
    "\n",
    "    \n",
    "\n",
    "\n",
    "        \n",
    "\n"
   ]
  },
  {
   "cell_type": "code",
   "execution_count": 3,
   "metadata": {},
   "outputs": [],
   "source": [
    "p=Node(40)\n",
    "\n",
    "p.next=Node(40)\n",
    "q = p.next\n",
    "\n",
    "q.next = Node(50)\n",
    "r= q.next\n",
    "\n",
    "\n",
    "r.next=Node(60)\n",
    "s= r.next\n",
    "\n",
    "\n",
    "a=Node(20)\n",
    "\n",
    "a.next=Node(30)\n",
    "b = a.next\n",
    "\n",
    "b.next = Node(40)\n",
    "c= b.next\n",
    "\n",
    "\n",
    "c.next=Node(50)\n",
    "d= c.next"
   ]
  },
  {
   "cell_type": "code",
   "execution_count": 2,
   "metadata": {},
   "outputs": [],
   "source": [
    "def traverse(a):\n",
    "\n",
    "    current = a\n",
    "    while current:\n",
    "        print(current.data ,end = ' -> ')\n",
    "        current = current.next\n",
    "    print(None)"
   ]
  },
  {
   "cell_type": "code",
   "execution_count": 44,
   "metadata": {},
   "outputs": [
    {
     "name": "stdout",
     "output_type": "stream",
     "text": [
      "50 -> 20 -> 30 -> 40 -> None\n"
     ]
    }
   ],
   "source": [
    "traverse(RotateLL(a,1))"
   ]
  },
  {
   "cell_type": "markdown",
   "metadata": {},
   "source": [
    "### Question : Remove the duplicates from the Sorted List II"
   ]
  },
  {
   "cell_type": "code",
   "execution_count": 32,
   "metadata": {},
   "outputs": [],
   "source": [
    "def removeDuplicate(head):\n",
    "    if head is None:\n",
    "        return head\n",
    "    prev = head\n",
    "    current = head.next\n",
    "    Next = head.next\n",
    "    while current:\n",
    "        if prev.data == current.data:\n",
    "            prev.next = current.next\n",
    "            current = current.next\n",
    "            continue\n",
    "        prev = current\n",
    "        current = current.next\n",
    "    return head"
   ]
  },
  {
   "cell_type": "code",
   "execution_count": 37,
   "metadata": {},
   "outputs": [],
   "source": [
    "x = Node(10)\n",
    "\n",
    "x.next = Node(20)\n",
    "y = x.next\n",
    "\n",
    "y.next = Node(20)\n",
    "z = y.next"
   ]
  },
  {
   "cell_type": "code",
   "execution_count": 28,
   "metadata": {},
   "outputs": [
    {
     "name": "stdout",
     "output_type": "stream",
     "text": [
      "10 -> None\n"
     ]
    }
   ],
   "source": [
    "traverse(removeDuplicate(x))"
   ]
  },
  {
   "cell_type": "markdown",
   "metadata": {},
   "source": [
    "##### Above duplicate function is  remove single node it is removing duplicacy from the Linked List but not removing the both Nodes."
   ]
  },
  {
   "cell_type": "code",
   "execution_count": 38,
   "metadata": {},
   "outputs": [],
   "source": [
    "def removeDuplicates(head):\n",
    "    if head is None:\n",
    "        return head\n",
    "    prev = head\n",
    "    current = head.next\n",
    "    Next = current.next\n",
    "    while current:\n",
    "        if current.data == Next.data:\n",
    "            prev.next = Next.next\n",
    "            current = current.next\n",
    "            continue\n",
    "        prev = current\n",
    "        current = current.next\n",
    "    return head"
   ]
  },
  {
   "cell_type": "code",
   "execution_count": 39,
   "metadata": {},
   "outputs": [
    {
     "name": "stdout",
     "output_type": "stream",
     "text": [
      "10 -> None\n"
     ]
    }
   ],
   "source": [
    "traverse(removeDuplicates(x))"
   ]
  },
  {
   "cell_type": "markdown",
   "metadata": {},
   "source": [
    "### Partition List :\n",
    "##### Given the head of a linked list and a value x, partition it such that all nodes less than x come before nodes greater than or equal to x."
   ]
  },
  {
   "cell_type": "code",
   "execution_count": 8,
   "metadata": {},
   "outputs": [],
   "source": [
    "class Node:\n",
    "    def __init__(self,data):\n",
    "        self.data = data\n",
    "        self.next = None"
   ]
  },
  {
   "cell_type": "code",
   "execution_count": 9,
   "metadata": {},
   "outputs": [],
   "source": [
    "def partition(head ,k):\n",
    "    original_head = head\n",
    "    x_node = None\n",
    "    tracker = 0\n",
    "    if head is None:\n",
    "        return \n",
    "    while original_head:\n",
    "        if tracker == k:\n",
    "            x_node = original_head\n",
    "            break\n",
    "        original_head = original_head.next\n",
    "        tracker+=1\n",
    "\n",
    "    if not x_node:  \n",
    "        raise ValueError(\"Index k is out of bounds\")\n",
    "    \n",
    "    less_head = less_tail = Node(0)\n",
    "    more_head = more_tail = Node(0)\n",
    "    original_head = head\n",
    "\n",
    "    while original_head:\n",
    "        \n",
    "        if original_head.data < x_node.data:\n",
    "            less_tail.next = original_head\n",
    "            less_tail = less_tail.next\n",
    "        else:\n",
    "            more_tail.next = original_head\n",
    "            more_tail = more_tail.next\n",
    "        original_head = original_head.next\n",
    "\n",
    "\n",
    "    more_tail.next = None\n",
    "    less_tail.next = more_head.next\n",
    "    return traverse(less_head.next)\n",
    "        "
   ]
  },
  {
   "cell_type": "code",
   "execution_count": 18,
   "metadata": {},
   "outputs": [],
   "source": [
    "a=Node(1)\n",
    "\n",
    "a.next=Node(4)\n",
    "b = a.next\n",
    "\n",
    "b.next = Node(3)\n",
    "c= b.next\n",
    "\n",
    "\n",
    "c.next=Node(2)\n",
    "d= c.next\n",
    "\n",
    "d.next = Node(5)\n",
    "e = d.next\n",
    "\n",
    "e.next = Node(2)\n",
    "f = e.next"
   ]
  },
  {
   "cell_type": "code",
   "execution_count": 19,
   "metadata": {},
   "outputs": [
    {
     "name": "stdout",
     "output_type": "stream",
     "text": [
      "1 -> 3 -> 2 -> 2 -> 4 -> 5 -> None\n"
     ]
    }
   ],
   "source": [
    "partition(a,1)"
   ]
  },
  {
   "cell_type": "code",
   "execution_count": null,
   "metadata": {},
   "outputs": [],
   "source": []
  },
  {
   "cell_type": "code",
   "execution_count": null,
   "metadata": {},
   "outputs": [],
   "source": []
  },
  {
   "cell_type": "code",
   "execution_count": null,
   "metadata": {},
   "outputs": [],
   "source": []
  },
  {
   "cell_type": "code",
   "execution_count": null,
   "metadata": {},
   "outputs": [],
   "source": []
  },
  {
   "cell_type": "code",
   "execution_count": null,
   "metadata": {},
   "outputs": [],
   "source": []
  }
 ],
 "metadata": {
  "kernelspec": {
   "display_name": "Python 3",
   "language": "python",
   "name": "python3"
  },
  "language_info": {
   "codemirror_mode": {
    "name": "ipython",
    "version": 3
   },
   "file_extension": ".py",
   "mimetype": "text/x-python",
   "name": "python",
   "nbconvert_exporter": "python",
   "pygments_lexer": "ipython3",
   "version": "3.12.1"
  }
 },
 "nbformat": 4,
 "nbformat_minor": 2
}
