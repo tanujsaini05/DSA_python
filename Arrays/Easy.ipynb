{
 "cells": [
  {
   "cell_type": "markdown",
   "metadata": {},
   "source": [
    "#### 26. Remove duplicates from the sorted array\n",
    "\n",
    "Given an integer array nums sorted in non-decreasing order, remove the duplicates in-place such that each unique element appears only once. The relative order of the elements should be kept the same. Then return the number of unique elements in nums.\n",
    "\n",
    "Consider the number of unique elements of nums to be k, to get accepted, you need to do the following things:\n",
    "\n",
    "Change the array nums such that the first k elements of nums contain the unique elements in the order they were present in nums initially. The remaining elements of nums are not important as well as the size of nums.\n",
    "Return k."
   ]
  },
  {
   "cell_type": "code",
   "execution_count": null,
   "metadata": {},
   "outputs": [],
   "source": [
    "def remove_dup(arr):\n",
    "    uniq = []\n",
    "    a= set()\n",
    "\n",
    "    for i in range(len(arr)):\n",
    "        if arr[i] not in uniq:\n",
    "            uniq.append(i)\n",
    "        else:\n",
    "            uniq.append('_')\n",
    "        \n",
    "    return uniq\n",
    "\n",
    "\n",
    "\n"
   ]
  },
  {
   "cell_type": "code",
   "execution_count": null,
   "metadata": {},
   "outputs": [],
   "source": [
    "def removeDuplicates(nums):\n",
    "    j = 1\n",
    "    for i in range(1, len(nums)):\n",
    "        if nums[i] != nums[i - 1]:\n",
    "            nums[j] = nums[i]\n",
    "            j += 1\n",
    "    return j"
   ]
  },
  {
   "cell_type": "code",
   "execution_count": 12,
   "metadata": {},
   "outputs": [
    {
     "name": "stdout",
     "output_type": "stream",
     "text": [
      "[0, 1, '_', 3, '_', 5, '_', '_', '_']\n"
     ]
    }
   ],
   "source": [
    "print(remove_dup([1,1,1,2,3,4,5,5,5]))"
   ]
  },
  {
   "cell_type": "markdown",
   "metadata": {},
   "source": [
    "#### 2698. Find the Punishment Number of an Integer\n",
    "\n",
    "Given a positive integer n, return the punishment number of n.\n",
    "\n",
    "o The punishment number of n is defined as the sum of the squares of all integers i such that:\n",
    "1 <= i <= n\n",
    "\n",
    "The decimal representation of i * i can be partitioned into contiguous substrings such that the sum of the integer values of these substrings equals i."
   ]
  },
  {
   "cell_type": "code",
   "execution_count": null,
   "metadata": {},
   "outputs": [],
   "source": []
  }
 ],
 "metadata": {
  "kernelspec": {
   "display_name": "gem_learn",
   "language": "python",
   "name": "python3"
  },
  "language_info": {
   "codemirror_mode": {
    "name": "ipython",
    "version": 3
   },
   "file_extension": ".py",
   "mimetype": "text/x-python",
   "name": "python",
   "nbconvert_exporter": "python",
   "pygments_lexer": "ipython3",
   "version": "3.10.16"
  }
 },
 "nbformat": 4,
 "nbformat_minor": 2
}
