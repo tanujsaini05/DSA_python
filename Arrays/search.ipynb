{
 "cells": [
  {
   "cell_type": "markdown",
   "id": "9ccac323",
   "metadata": {},
   "source": [
    "### Linear search"
   ]
  },
  {
   "cell_type": "code",
   "execution_count": 4,
   "id": "8ff4b980",
   "metadata": {},
   "outputs": [],
   "source": [
    "arr = [12,45,67,89,9,23,43]\n",
    "def search(arr,s):\n",
    "\n",
    "    for i in arr:\n",
    "        if  s == i:\n",
    "            return arr.index(i)\n",
    "    return \"Not Found\""
   ]
  },
  {
   "cell_type": "code",
   "execution_count": 4,
   "id": "37c6cfa7",
   "metadata": {},
   "outputs": [
    {
     "data": {
      "text/plain": [
       "4"
      ]
     },
     "execution_count": 4,
     "metadata": {},
     "output_type": "execute_result"
    }
   ],
   "source": [
    "search(arr,9)"
   ]
  },
  {
   "cell_type": "markdown",
   "id": "68395606",
   "metadata": {},
   "source": [
    "### Binary search"
   ]
  },
  {
   "cell_type": "code",
   "execution_count": 13,
   "id": "119c3ab0",
   "metadata": {},
   "outputs": [],
   "source": [
    "def binsearch(arr, s):\n",
    "    arr.sort()  # Only if input is not guaranteed to be sorted\n",
    "    start = 0\n",
    "    end = len(arr) - 1\n",
    "\n",
    "    while start <= end:\n",
    "        mid = (start + end) // 2\n",
    "        if arr[mid] == s:\n",
    "            return mid  # or return True if just checking existence\n",
    "        elif arr[mid] > s:\n",
    "            end = mid - 1\n",
    "        else:\n",
    "            start = mid + 1\n",
    "\n",
    "    return -1  # Not found"
   ]
  },
  {
   "cell_type": "code",
   "execution_count": 14,
   "id": "fdf766ef",
   "metadata": {},
   "outputs": [
    {
     "data": {
      "text/plain": [
       "5"
      ]
     },
     "execution_count": 14,
     "metadata": {},
     "output_type": "execute_result"
    }
   ],
   "source": [
    "binsearch(arr,67)"
   ]
  },
  {
   "cell_type": "code",
   "execution_count": 15,
   "id": "6548f40d",
   "metadata": {},
   "outputs": [],
   "source": [
    "arr.sort()"
   ]
  },
  {
   "cell_type": "code",
   "execution_count": null,
   "id": "cd04722d",
   "metadata": {},
   "outputs": [
    {
     "data": {
      "text/plain": [
       "[9, 12, 23, 43, 45, 67, 89]"
      ]
     },
     "execution_count": 16,
     "metadata": {},
     "output_type": "execute_result"
    }
   ],
   "source": [
    "arr"
   ]
  },
  {
   "cell_type": "code",
   "execution_count": null,
   "id": "aac527c4",
   "metadata": {},
   "outputs": [],
   "source": []
  }
 ],
 "metadata": {
  "kernelspec": {
   "display_name": "gem_learn",
   "language": "python",
   "name": "python3"
  },
  "language_info": {
   "codemirror_mode": {
    "name": "ipython",
    "version": 3
   },
   "file_extension": ".py",
   "mimetype": "text/x-python",
   "name": "python",
   "nbconvert_exporter": "python",
   "pygments_lexer": "ipython3",
   "version": "3.10.16"
  }
 },
 "nbformat": 4,
 "nbformat_minor": 5
}
