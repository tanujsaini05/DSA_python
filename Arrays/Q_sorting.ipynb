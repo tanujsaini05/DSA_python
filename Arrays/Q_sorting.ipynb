{
 "cells": [
  {
   "cell_type": "markdown",
   "id": "50fac63b",
   "metadata": {},
   "source": [
    "Given an integer array arr[] and an integer k, determine whether there exist two indices i and j such that arr[i] == arr[j] and |i - j| ≤ k. If such a pair exists, return 'Yes', otherwise return 'No'."
   ]
  },
  {
   "cell_type": "code",
   "execution_count": null,
   "id": "55775024",
   "metadata": {},
   "outputs": [],
   "source": [
    "def check_duplicate_inthin_k(arr,k):\n",
    "    n = len(arr)\n",
    "    for i in range(n):\n",
    "        for c in range(1,k+1):\n",
    "            j=i+c\n",
    "            if arr[i] == arr[j]:\n",
    "                return True\n",
    "    return False\n"
   ]
  },
  {
   "cell_type": "code",
   "execution_count": 10,
   "id": "4368fc90",
   "metadata": {},
   "outputs": [],
   "source": [
    "def check_duplicate(arr,k):\n",
    "    for i in range(len(arr)):\n",
    "        for c in range(1,k+1):\n",
    "            j = i+c\n",
    "            if j<len(arr) and arr[i] == arr[j]:\n",
    "                return True\n",
    "    return False"
   ]
  },
  {
   "cell_type": "code",
   "execution_count": 11,
   "id": "dfc73408",
   "metadata": {},
   "outputs": [
    {
     "data": {
      "text/plain": [
       "True"
      ]
     },
     "execution_count": 11,
     "metadata": {},
     "output_type": "execute_result"
    }
   ],
   "source": [
    "check_duplicate([1,2,3,1,4,5],3)"
   ]
  },
  {
   "cell_type": "code",
   "execution_count": 16,
   "id": "c701b09a",
   "metadata": {},
   "outputs": [],
   "source": [
    "def maximum(arr):\n",
    "    arr.sort(reverse = True)\n",
    "    for i in range(len(arr)-2):\n",
    "        if(arr[i]< arr[i+1] + arr[i+2]):\n",
    "            return arr[i] + arr[i+1] + arr[i+2]\n",
    "    return -1"
   ]
  },
  {
   "cell_type": "code",
   "execution_count": 17,
   "id": "6f37b6ba",
   "metadata": {},
   "outputs": [
    {
     "data": {
      "text/plain": [
       "20"
      ]
     },
     "execution_count": 17,
     "metadata": {},
     "output_type": "execute_result"
    }
   ],
   "source": [
    "maximum([6,1,6,5,8,4])"
   ]
  },
  {
   "cell_type": "code",
   "execution_count": 21,
   "id": "282eff04",
   "metadata": {},
   "outputs": [
    {
     "data": {
      "text/plain": [
       "[4636, 867, 67, 34, 12, 3, 3, 1]"
      ]
     },
     "execution_count": 21,
     "metadata": {},
     "output_type": "execute_result"
    }
   ],
   "source": [
    "arr= [1,67,3,12,3,4636,867,34]\n",
    "arr.sort(reverse = True)\n",
    "arr"
   ]
  },
  {
   "cell_type": "code",
   "execution_count": null,
   "id": "beadc76e",
   "metadata": {},
   "outputs": [],
   "source": []
  }
 ],
 "metadata": {
  "kernelspec": {
   "display_name": "gem_learn",
   "language": "python",
   "name": "python3"
  },
  "language_info": {
   "codemirror_mode": {
    "name": "ipython",
    "version": 3
   },
   "file_extension": ".py",
   "mimetype": "text/x-python",
   "name": "python",
   "nbconvert_exporter": "python",
   "pygments_lexer": "ipython3",
   "version": "3.10.16"
  }
 },
 "nbformat": 4,
 "nbformat_minor": 5
}
