{
 "cells": [
  {
   "cell_type": "markdown",
   "id": "3d9de81a",
   "metadata": {},
   "source": [
    "##### Bubble sort"
   ]
  },
  {
   "cell_type": "code",
   "execution_count": 8,
   "id": "90cba1d4",
   "metadata": {},
   "outputs": [],
   "source": [
    "def bub(arr):\n",
    "    for i in range(len(arr)):\n",
    "        swap = False\n",
    "        for j in range(len(arr)-i-1):\n",
    "\n",
    "            if arr[j] > arr[j+1]:\n",
    "                arr[j],arr[j+1] = arr[j+1],arr[j]\n",
    "                swap = True\n",
    "\n",
    "        if swap == False:\n",
    "            break\n",
    "    return arr\n",
    "\n",
    "        "
   ]
  },
  {
   "cell_type": "code",
   "execution_count": 9,
   "id": "e7c70e73",
   "metadata": {},
   "outputs": [
    {
     "data": {
      "text/plain": [
       "[12, 13, 24, 43, 45, 65, 78]"
      ]
     },
     "execution_count": 9,
     "metadata": {},
     "output_type": "execute_result"
    }
   ],
   "source": [
    "bub([43,12,65,78,45,24,13])"
   ]
  },
  {
   "cell_type": "code",
   "execution_count": 5,
   "id": "7f52fb24",
   "metadata": {},
   "outputs": [],
   "source": [
    "def selection_sort(arr):\n",
    "    for i in range(len(arr)-1):\n",
    "        min = i\n",
    "        for j in range(i+1,len(arr)):\n",
    "            if (arr[j]<arr[min]):\n",
    "                min  = j\n",
    "        if min != i:\n",
    "            arr[i],arr[min] = arr[min],arr[i]\n",
    "    return arr"
   ]
  },
  {
   "cell_type": "code",
   "execution_count": 6,
   "id": "1a592d87",
   "metadata": {},
   "outputs": [
    {
     "data": {
      "text/plain": [
       "[1, 3, 4, 7, 8, 10]"
      ]
     },
     "execution_count": 6,
     "metadata": {},
     "output_type": "execute_result"
    }
   ],
   "source": [
    "arr = [7,4,10,8,3,1]\n",
    "selection_sort(arr)"
   ]
  },
  {
   "cell_type": "code",
   "execution_count": null,
   "id": "9fcfe17f",
   "metadata": {},
   "outputs": [],
   "source": []
  }
 ],
 "metadata": {
  "kernelspec": {
   "display_name": "gem_learn",
   "language": "python",
   "name": "python3"
  },
  "language_info": {
   "codemirror_mode": {
    "name": "ipython",
    "version": 3
   },
   "file_extension": ".py",
   "mimetype": "text/x-python",
   "name": "python",
   "nbconvert_exporter": "python",
   "pygments_lexer": "ipython3",
   "version": "3.10.16"
  }
 },
 "nbformat": 4,
 "nbformat_minor": 5
}
